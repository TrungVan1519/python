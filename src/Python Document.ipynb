{
 "cells": [
  {
   "cell_type": "markdown",
   "metadata": {},
   "source": [
    "# 1. Declarations"
   ]
  },
  {
   "cell_type": "markdown",
   "metadata": {},
   "source": [
    "- `venv`  : Virtual environment\r\n",
    "\r\n",
    "- `pip`   : Package manager\r\n",
    "\r\n",
    "- `pylint`: Error checker\r\n",
    "\r\n",
    "- `pep8`  : Code convention"
   ]
  },
  {
   "cell_type": "markdown",
   "metadata": {},
   "source": [
    "# 2. Python interpreters"
   ]
  },
  {
   "cell_type": "markdown",
   "metadata": {},
   "source": [
    "## 2.1. Default interpreter"
   ]
  },
  {
   "cell_type": "markdown",
   "metadata": {},
   "source": [
    "- Opening interpreter\r\n",
    "\r\n",
    "    ```sh\r\n",
    "    py\r\n",
    "    ```\r\n",
    "\r\n",
    "- Executing files\r\n",
    "\r\n",
    "    ```sh\r\n",
    "    py name.py\r\n",
    "    ```"
   ]
  },
  {
   "cell_type": "markdown",
   "metadata": {},
   "source": [
    "## 2.2. `ipython` interpreter"
   ]
  },
  {
   "cell_type": "markdown",
   "metadata": {},
   "source": [
    "- Installing `ipython`\r\n",
    "\r\n",
    "    ```sh\r\n",
    "    pipenv install ipython\r\n",
    "    ```\r\n",
    "\r\n",
    "- Opening `ipython`\r\n",
    "\r\n",
    "    ```sh\r\n",
    "    ipython\r\n",
    "    ```"
   ]
  },
  {
   "cell_type": "markdown",
   "metadata": {},
   "source": [
    "# 3. Variables"
   ]
  },
  {
   "cell_type": "markdown",
   "metadata": {},
   "source": [
    "## 3.1. Data types"
   ]
  },
  {
   "cell_type": "markdown",
   "metadata": {},
   "source": [
    "- Use `type()` to get data type of variables\r\n",
    "\r\n",
    "- Use `id()` to get address o variables in memmory\r\n",
    "\r\n",
    "![data types](./images/data_types.png)"
   ]
  },
  {
   "cell_type": "markdown",
   "metadata": {},
   "source": [
    "### 3.1.1. Primitives"
   ]
  },
  {
   "cell_type": "markdown",
   "metadata": {},
   "source": [
    "- str\r\n",
    "\r\n",
    "- int\r\n",
    "\r\n",
    "- float\r\n",
    "\r\n",
    "- bool\r\n",
    "\r\n",
    "- NoneType"
   ]
  },
  {
   "cell_type": "code",
   "execution_count": null,
   "metadata": {},
   "outputs": [],
   "source": [
    "print(\r\n",
    "    type(''),\r\n",
    "    type(0),\r\n",
    "    type(0.0),\r\n",
    "    type(True),\r\n",
    "    type(None),\r\n",
    "    sep='\\n'\r\n",
    ")"
   ]
  },
  {
   "cell_type": "markdown",
   "metadata": {},
   "source": [
    "### 3.1.2. References"
   ]
  },
  {
   "cell_type": "markdown",
   "metadata": {},
   "source": [
    "- list\r\n",
    "\r\n",
    "- tuple\r\n",
    "\r\n",
    "- set\r\n",
    "\r\n",
    "- dict"
   ]
  },
  {
   "cell_type": "code",
   "execution_count": null,
   "metadata": {},
   "outputs": [],
   "source": [
    "print(\r\n",
    "    type([]),\r\n",
    "    type(()),\r\n",
    "    type({''}),\r\n",
    "    type({}),\r\n",
    "    sep='\\n'\r\n",
    ")"
   ]
  },
  {
   "cell_type": "markdown",
   "metadata": {},
   "source": [
    "## 3.2. Falsy and Truthy"
   ]
  },
  {
   "cell_type": "markdown",
   "metadata": {},
   "source": [
    "- Falsy: '', 0, 0.0, False, None, [], {}, ()\r\n",
    "\r\n",
    "- Truthy: Other values"
   ]
  },
  {
   "cell_type": "markdown",
   "metadata": {},
   "source": [
    "## 3.3. Casting types"
   ]
  },
  {
   "cell_type": "markdown",
   "metadata": {},
   "source": [
    "### 3.3.1. Primitives"
   ]
  },
  {
   "cell_type": "code",
   "execution_count": null,
   "metadata": {},
   "outputs": [],
   "source": [
    "print(\r\n",
    "    str(0),\r\n",
    "    int('0'),\r\n",
    "    float('0'),\r\n",
    "    bool('True'),\r\n",
    "    sep='\\n'\r\n",
    ")"
   ]
  },
  {
   "cell_type": "markdown",
   "metadata": {},
   "source": [
    "### 3.3.2. References"
   ]
  },
  {
   "cell_type": "code",
   "execution_count": null,
   "metadata": {},
   "outputs": [],
   "source": [
    "print(\r\n",
    "    list('123'),\r\n",
    "    tuple('123'),\r\n",
    "    set('123'),\r\n",
    "    dict(a=1,b=2,c=3),\r\n",
    "    dict([('a', 1), ('b', 2), ('c', 3)]),\r\n",
    "    sep='\\n'\r\n",
    ")"
   ]
  },
  {
   "cell_type": "markdown",
   "metadata": {},
   "source": [
    "## 3.4. Operators"
   ]
  },
  {
   "cell_type": "markdown",
   "metadata": {},
   "source": [
    "### 3.4.1. Multiplication operators"
   ]
  },
  {
   "cell_type": "code",
   "execution_count": null,
   "metadata": {},
   "outputs": [],
   "source": [
    "print(\r\n",
    "    'a' * 3,\r\n",
    "    [0] * 3,\r\n",
    "    10 ** 3,\r\n",
    "    sep='\\n'\r\n",
    ")"
   ]
  },
  {
   "cell_type": "markdown",
   "metadata": {},
   "source": [
    "### 3.4.2. Division operators"
   ]
  },
  {
   "cell_type": "code",
   "execution_count": null,
   "metadata": {},
   "outputs": [],
   "source": [
    "print(\r\n",
    "    10 / 3,\r\n",
    "    10 // 3,\r\n",
    "    10 % 3,\r\n",
    "    sep='\\n'\r\n",
    ")"
   ]
  },
  {
   "cell_type": "markdown",
   "metadata": {},
   "source": [
    "### 3.4.3. Ternary operators"
   ]
  },
  {
   "cell_type": "code",
   "execution_count": null,
   "metadata": {},
   "outputs": [],
   "source": [
    "score = 10\r\n",
    "print('pass' if score >= 4 else 'fail')"
   ]
  },
  {
   "cell_type": "markdown",
   "metadata": {},
   "source": [
    "### 3.4.4. Logic operators"
   ]
  },
  {
   "cell_type": "markdown",
   "metadata": {},
   "source": [
    "- `and` always returns the last value in statements \r\n",
    "\r\n",
    "- `or` always returns the first value in statements"
   ]
  },
  {
   "cell_type": "code",
   "execution_count": null,
   "metadata": {},
   "outputs": [],
   "source": [
    "print(\r\n",
    "    True and False,\r\n",
    "    False and True,\r\n",
    "    True or False,\r\n",
    "    False or True,\r\n",
    "    1 and -1,\r\n",
    "    -1 and 1,\r\n",
    "    1 or -1,\r\n",
    "    -1 or 1,\r\n",
    "    not 1,\r\n",
    "    not 0,\r\n",
    "    sep='\\n'\r\n",
    ")"
   ]
  },
  {
   "cell_type": "markdown",
   "metadata": {},
   "source": [
    "### 3.4.5. Swapping operators"
   ]
  },
  {
   "cell_type": "code",
   "execution_count": null,
   "metadata": {},
   "outputs": [],
   "source": [
    "a = 1\r\n",
    "b = 2\r\n",
    "print(a, b, sep='\\t')\r\n",
    "a, b = b, a\r\n",
    "print(a, b, sep='\\t')"
   ]
  },
  {
   "cell_type": "markdown",
   "metadata": {},
   "source": [
    "### 3.4.6. `in` and `not in` operators"
   ]
  },
  {
   "cell_type": "markdown",
   "metadata": {},
   "source": [
    "Checking a item belongs to strings, lists, tuples, dictionaries, etc"
   ]
  },
  {
   "cell_type": "code",
   "execution_count": null,
   "metadata": {},
   "outputs": [],
   "source": [
    "print(\r\n",
    "    'a' in 'abc',\r\n",
    "    'a' not in ['a', 'b', 'c'],\r\n",
    "    sep='\\n'\r\n",
    ")"
   ]
  },
  {
   "cell_type": "markdown",
   "metadata": {},
   "source": [
    "# 4. Strings"
   ]
  },
  {
   "cell_type": "markdown",
   "metadata": {},
   "source": [
    "- Use `len()` to get length of strings\r\n",
    "\r\n",
    "- Use `ord()` to get ASCII of a char in strings"
   ]
  },
  {
   "cell_type": "markdown",
   "metadata": {},
   "source": [
    "## 4.1. Attrs"
   ]
  },
  {
   "cell_type": "markdown",
   "metadata": {},
   "source": [
    "- Generic\r\n",
    "\r\n",
    "- Mutable\r\n",
    "\r\n",
    "- Static char data type"
   ]
  },
  {
   "cell_type": "markdown",
   "metadata": {},
   "source": [
    "## 4.2. Interacting with strings"
   ]
  },
  {
   "cell_type": "markdown",
   "metadata": {},
   "source": [
    "### 4.2.1. Creating strings"
   ]
  },
  {
   "cell_type": "code",
   "execution_count": null,
   "metadata": {},
   "outputs": [],
   "source": [
    "str1 = f'{123}'\r\n",
    "str2 = 'single line'\r\n",
    "str3 = '''\r\n",
    "multiple lines\r\n",
    "'''\r\n",
    "\r\n",
    "print(\r\n",
    "    str1,\r\n",
    "    str2,\r\n",
    "    str3,\r\n",
    "    sep='\\n'\r\n",
    ")"
   ]
  },
  {
   "cell_type": "markdown",
   "metadata": {},
   "source": [
    "### 4.2.2. Indexing strings"
   ]
  },
  {
   "cell_type": "markdown",
   "metadata": {},
   "source": [
    "![indexing strings](./images/indexing_strings.png)"
   ]
  },
  {
   "cell_type": "markdown",
   "metadata": {},
   "source": [
    "### 4.2.3. Slicing strings"
   ]
  },
  {
   "cell_type": "markdown",
   "metadata": {},
   "source": [
    "![slicing strings](./images/slicing_strings.png)"
   ]
  },
  {
   "cell_type": "code",
   "execution_count": null,
   "metadata": {},
   "outputs": [],
   "source": [
    "string = '123abc'\r\n",
    "str1 = string[0]\r\n",
    "str2 = string[-1]\r\n",
    "str3 = string[:]\r\n",
    "str4 = string[0:]\r\n",
    "str5 = string[0:3]\r\n",
    "str6 = string[:3]\r\n",
    "str7 = string[::3] # jump 3 steps\r\n",
    "\r\n",
    "print(\r\n",
    "    str1,\r\n",
    "    str2,\r\n",
    "    str3,\r\n",
    "    str4,\r\n",
    "    str5,\r\n",
    "    str6,\r\n",
    "    str7,\r\n",
    "    sep='\\n'\r\n",
    ")"
   ]
  },
  {
   "cell_type": "markdown",
   "metadata": {},
   "source": [
    "### 4.2.4. Updating strings"
   ]
  },
  {
   "cell_type": "code",
   "execution_count": null,
   "metadata": {},
   "outputs": [],
   "source": [
    "string = 'old'\r\n",
    "print(string)\r\n",
    "\r\n",
    "string = 'new'\r\n",
    "print(string)"
   ]
  },
  {
   "cell_type": "markdown",
   "metadata": {},
   "source": [
    "### 4.2.5. Concatenating strings"
   ]
  },
  {
   "cell_type": "code",
   "execution_count": null,
   "metadata": {},
   "outputs": [],
   "source": [
    "string = 'foo' + 'bar'\r\n",
    "print(string)"
   ]
  },
  {
   "cell_type": "markdown",
   "metadata": {},
   "source": [
    "### 4.2.6. Formatting strings"
   ]
  },
  {
   "cell_type": "code",
   "execution_count": null,
   "metadata": {},
   "outputs": [],
   "source": [
    "print(\r\n",
    "    f'The result = {1/3:.2}',\r\n",
    "    'The result = {r:.2}'.format(r=1/3),\r\n",
    "    sep='\\n'\r\n",
    ")"
   ]
  },
  {
   "cell_type": "code",
   "execution_count": null,
   "metadata": {},
   "outputs": [],
   "source": [
    "print(\r\n",
    "    '<{0}>{1}</{0}>'.format('h1', 'Formatted by indexing'),\r\n",
    "    '<{title}>{content}</{title}>'.format(title='h1', content='Formatted by explicating'),\r\n",
    "    sep='\\n'\r\n",
    ")"
   ]
  },
  {
   "cell_type": "code",
   "execution_count": null,
   "metadata": {},
   "outputs": [],
   "source": [
    "class Person():\r\n",
    "    def __init__(self, name, age):\r\n",
    "        self.name = name\r\n",
    "        self.age = age\r\n",
    "\r\n",
    "print(\r\n",
    "    'Person({0.name}, {0.age})'.format(Person('Jack', '33')),\r\n",
    "    'Person({name}, {age})'.format(name='Jenn', age='30'),\r\n",
    "    sep='\\n'\r\n",
    ")"
   ]
  },
  {
   "cell_type": "code",
   "execution_count": null,
   "metadata": {},
   "outputs": [],
   "source": [
    "from datetime import datetime\r\n",
    "\r\n",
    "dt = datetime(year=2016, month=9, day=24, hour=12, minute=30, second=45)\r\n",
    "fmt = '{:%B %d, %Y}'\r\n",
    "\r\n",
    "print(\r\n",
    "    dt,\r\n",
    "    fmt.format(dt),\r\n",
    "    sep='\\n'\r\n",
    ")"
   ]
  },
  {
   "cell_type": "markdown",
   "metadata": {},
   "source": [
    "# 5. Lists"
   ]
  },
  {
   "cell_type": "markdown",
   "metadata": {},
   "source": [
    "## 5.1. Attrs"
   ]
  },
  {
   "cell_type": "markdown",
   "metadata": {},
   "source": [
    "- Generic\r\n",
    "\r\n",
    "- Mutable\r\n",
    "\r\n",
    "- Contains dynamic data types"
   ]
  },
  {
   "cell_type": "markdown",
   "metadata": {},
   "source": [
    "## 5.2. Interacting with lists"
   ]
  },
  {
   "cell_type": "markdown",
   "metadata": {},
   "source": [
    "### 5.2.1. Creating lists"
   ]
  },
  {
   "cell_type": "code",
   "execution_count": null,
   "metadata": {},
   "outputs": [],
   "source": [
    "lst = [1, 2, 3, 'a', 'b', 'c']\r\n",
    "print(lst)"
   ]
  },
  {
   "cell_type": "markdown",
   "metadata": {},
   "source": [
    "### 5.2.2. Slicing lists"
   ]
  },
  {
   "cell_type": "code",
   "execution_count": null,
   "metadata": {},
   "outputs": [],
   "source": [
    "lst = [1, 2, 3, 'a', 'b', 'c']\r\n",
    "\r\n",
    "lst1 = lst[0]\r\n",
    "lst2 = lst[-1]\r\n",
    "lst3 = lst[:]\r\n",
    "lst4 = lst[0:]\r\n",
    "lst5 = lst[0:3]\r\n",
    "lst6 = lst[:3]\r\n",
    "lst7 = lst[::3] # jump 3 steps\r\n",
    "\r\n",
    "print(\r\n",
    "    lst1,\r\n",
    "    lst2,\r\n",
    "    lst3,\r\n",
    "    lst4,\r\n",
    "    lst5,\r\n",
    "    lst6,\r\n",
    "    lst7,\r\n",
    "    sep='\\n'\r\n",
    ")"
   ]
  },
  {
   "cell_type": "markdown",
   "metadata": {},
   "source": [
    "### 5.2.3. Updating lists"
   ]
  },
  {
   "cell_type": "code",
   "execution_count": null,
   "metadata": {},
   "outputs": [],
   "source": [
    "lst = [1, 2, 3, 'a', 'b', 'c']\r\n",
    "print(lst)\r\n",
    "\r\n",
    "lst[0] = 'new value'\r\n",
    "print(lst)"
   ]
  },
  {
   "cell_type": "markdown",
   "metadata": {},
   "source": [
    "### 5.2.4. Deleting items or entire lists"
   ]
  },
  {
   "cell_type": "code",
   "execution_count": null,
   "metadata": {},
   "outputs": [],
   "source": [
    "lst = [1, 2, 3, 'a', 'b', 'c']\r\n",
    "print(lst)\r\n",
    "\r\n",
    "# deleting a item of lists\r\n",
    "lst.pop(0)\r\n",
    "lst.pop()\r\n",
    "print(lst)\r\n",
    "\r\n",
    "# deleting lists\r\n",
    "del lst\r\n",
    "try:\r\n",
    "    print(lst)\r\n",
    "except Exception as e:\r\n",
    "    print(e)"
   ]
  },
  {
   "cell_type": "markdown",
   "metadata": {},
   "source": [
    "### 5.2.5. Concatenating lists"
   ]
  },
  {
   "cell_type": "code",
   "execution_count": null,
   "metadata": {},
   "outputs": [],
   "source": [
    "lst = [1, 2, 3] + ['a', 'b', 'c']\r\n",
    "print(lst)"
   ]
  },
  {
   "cell_type": "markdown",
   "metadata": {},
   "source": [
    "### 5.2.6. Copying lists"
   ]
  },
  {
   "cell_type": "code",
   "execution_count": null,
   "metadata": {},
   "outputs": [],
   "source": [
    "lst = [*[1, 2, 3], *['a', 'b', 'c']]\r\n",
    "print(lst)"
   ]
  },
  {
   "cell_type": "markdown",
   "metadata": {},
   "source": [
    "### 5.2.7. Unpacking lists"
   ]
  },
  {
   "cell_type": "code",
   "execution_count": null,
   "metadata": {},
   "outputs": [],
   "source": [
    "lst = [1, 2, 3, 'a', 'b', 'c']\r\n",
    "\r\n",
    "var1, *var2, var3 = lst\r\n",
    "var4, var5, *var6 = lst\r\n",
    "\r\n",
    "print(var1, var2, var3, sep='\\t')\r\n",
    "print(var4, var5, var6, sep='\\t')"
   ]
  },
  {
   "cell_type": "markdown",
   "metadata": {},
   "source": [
    "### 5.2.8. List Comprehensions"
   ]
  },
  {
   "cell_type": "code",
   "execution_count": null,
   "metadata": {},
   "outputs": [],
   "source": [
    "lst = [1, 2, 3, 'a', 'b', 'c']\r\n",
    "\r\n",
    "mapped = [x*2 for x in lst]\r\n",
    "filtered = [x*2 for x in lst if ord(str(x)) % 2 == 0]\r\n",
    "\r\n",
    "print(\r\n",
    "    mapped,\r\n",
    "    filtered,\r\n",
    "    sep='\\n'\r\n",
    ")"
   ]
  },
  {
   "cell_type": "markdown",
   "metadata": {},
   "source": [
    "**Note**: We can use multiple loops in List Comprehensions"
   ]
  },
  {
   "cell_type": "code",
   "execution_count": null,
   "metadata": {},
   "outputs": [],
   "source": [
    "# list comprehensions with multiple loops\r\n",
    "lst1 = [(letter, num) for letter in 'abc' for num in range(2)]\r\n",
    "\r\n",
    "# normal way\r\n",
    "lst2 = []\r\n",
    "for letter in 'abc':\r\n",
    "    for num in range(2):\r\n",
    "        lst2.append((letter, num))\r\n",
    "\r\n",
    "print(\r\n",
    "    lst1,\r\n",
    "    lst2,\r\n",
    "    sep='\\n'\r\n",
    ")"
   ]
  },
  {
   "cell_type": "markdown",
   "metadata": {},
   "source": [
    "### 5.2.9. Sorting lists"
   ]
  },
  {
   "cell_type": "code",
   "execution_count": null,
   "metadata": {},
   "outputs": [],
   "source": [
    "lst = [1, 5, 1, 9]\r\n",
    "\r\n",
    "lst.sort()\r\n",
    "print(lst)\r\n",
    "\r\n",
    "lst.sort(reverse=True)\r\n",
    "print(lst)\r\n",
    "\r\n",
    "print(\r\n",
    "    sorted(lst),\r\n",
    "    sorted(lst, reverse=True),\r\n",
    "    sep='\\n'\r\n",
    ")"
   ]
  },
  {
   "cell_type": "code",
   "execution_count": null,
   "metadata": {},
   "outputs": [],
   "source": [
    "lst = [('a', 2), ('b', 1), ('c', 3)]\r\n",
    "\r\n",
    "lst.sort(key=lambda e: e[1])\r\n",
    "print(lst)\r\n",
    "\r\n",
    "lst.sort(key=lambda e: e[1], reverse=True)\r\n",
    "print(lst)\r\n",
    "\r\n",
    "print(\r\n",
    "    sorted(lst, key=lambda e: e[1]),\r\n",
    "    sorted(lst, key=lambda e: e[1], reverse=True),\r\n",
    "    sep='\\n'\r\n",
    ")"
   ]
  },
  {
   "cell_type": "markdown",
   "metadata": {},
   "source": [
    "### 5.2.10. Zipping lists"
   ]
  },
  {
   "cell_type": "code",
   "execution_count": null,
   "metadata": {},
   "outputs": [],
   "source": [
    "lst1 = [1, 2, 3]\r\n",
    "lst2 = ['a', 'b', 'c']\r\n",
    "lst3 = [True, False, None]\r\n",
    "\r\n",
    "zipped = list(zip(lst1, lst2, lst3))\r\n",
    "print(zipped)"
   ]
  },
  {
   "cell_type": "markdown",
   "metadata": {},
   "source": [
    "### 5.2.11. Enumerating lists"
   ]
  },
  {
   "cell_type": "code",
   "execution_count": null,
   "metadata": {},
   "outputs": [],
   "source": [
    "lst = [1, 2, 3, 'a', 'b', 'c']\r\n",
    "\r\n",
    "enum = list(enumerate(lst))\r\n",
    "print(enum)"
   ]
  },
  {
   "cell_type": "markdown",
   "metadata": {},
   "source": [
    "# 6. Tuples"
   ]
  },
  {
   "cell_type": "markdown",
   "metadata": {},
   "source": [
    "## 6.1. Attrs"
   ]
  },
  {
   "cell_type": "markdown",
   "metadata": {},
   "source": [
    "- Generic\r\n",
    "\r\n",
    "- Immutable\r\n",
    "\r\n",
    "- Contains dynamic data types"
   ]
  },
  {
   "cell_type": "markdown",
   "metadata": {},
   "source": [
    "## 6.2. Interacting with tuples"
   ]
  },
  {
   "cell_type": "markdown",
   "metadata": {},
   "source": [
    "### 6.2.1. Creating tuples"
   ]
  },
  {
   "cell_type": "code",
   "execution_count": null,
   "metadata": {},
   "outputs": [],
   "source": [
    "tup = (1, 2, 3, 'a', 'b', 'c')\r\n",
    "print(tup)"
   ]
  },
  {
   "cell_type": "markdown",
   "metadata": {},
   "source": [
    "### 6.2.2. Slicing tuples"
   ]
  },
  {
   "cell_type": "code",
   "execution_count": null,
   "metadata": {},
   "outputs": [],
   "source": [
    "tup = (1, 2, 3, 'a', 'b', 'c')\r\n",
    "\r\n",
    "tup1 = tup[0]\r\n",
    "tup2 = tup[-1]\r\n",
    "tup3 = tup[:]\r\n",
    "tup4 = tup[0:]\r\n",
    "tup5 = tup[0:3]\r\n",
    "tup6 = tup[:3]\r\n",
    "tup7 = tup[::3] # jump 3 steps\r\n",
    "\r\n",
    "print(\r\n",
    "    tup1,\r\n",
    "    tup2,\r\n",
    "    tup3,\r\n",
    "    tup4,\r\n",
    "    tup5,\r\n",
    "    tup6,\r\n",
    "    tup7,\r\n",
    "    sep='\\n'\r\n",
    ")"
   ]
  },
  {
   "cell_type": "markdown",
   "metadata": {},
   "source": [
    "### 6.2.3. Concatenating tuples"
   ]
  },
  {
   "cell_type": "code",
   "execution_count": null,
   "metadata": {},
   "outputs": [],
   "source": [
    "tup = (1, 2, 3) + ('a', 'b', 'c')\r\n",
    "print(tup)"
   ]
  },
  {
   "cell_type": "markdown",
   "metadata": {},
   "source": [
    "### 6.2.4. Copying tuples"
   ]
  },
  {
   "cell_type": "code",
   "execution_count": null,
   "metadata": {},
   "outputs": [],
   "source": [
    "tup = (*(1, 2, 3), *('a', 'b', 'c'))\r\n",
    "print(tup)"
   ]
  },
  {
   "cell_type": "markdown",
   "metadata": {},
   "source": [
    "### 6.2.5. Unpacking tuples"
   ]
  },
  {
   "cell_type": "code",
   "execution_count": null,
   "metadata": {},
   "outputs": [],
   "source": [
    "tup = (1, 2, 3) + ('a', 'b', 'c')\r\n",
    "\r\n",
    "var1, *var2, var3 = tup\r\n",
    "var4, var5, *var6 = tup\r\n",
    "\r\n",
    "print(var1, var2, var3, sep='\\t')\r\n",
    "print(var4, var5, var6, sep='\\t')"
   ]
  },
  {
   "cell_type": "markdown",
   "metadata": {},
   "source": [
    "### 6.2.6. Tuple Comprehensions"
   ]
  },
  {
   "cell_type": "markdown",
   "metadata": {},
   "source": [
    "**Note**: Tuple Comprehensions always returns a Generator but not a Tuple"
   ]
  },
  {
   "cell_type": "code",
   "execution_count": null,
   "metadata": {},
   "outputs": [],
   "source": [
    "tup = (1, 2, 3) + ('a', 'b', 'c')\r\n",
    "\r\n",
    "mapped = (x*2 for x in tup)\r\n",
    "filtered = (x*2 for x in tup if ord(str(x)) % 2 == 0)\r\n",
    "\r\n",
    "print(\r\n",
    "    mapped,\r\n",
    "    filtered,\r\n",
    "    sep='\\n'\r\n",
    ")"
   ]
  },
  {
   "cell_type": "markdown",
   "metadata": {},
   "source": [
    "# 7. Sets"
   ]
  },
  {
   "cell_type": "markdown",
   "metadata": {},
   "source": [
    "## 7.1. Attrs"
   ]
  },
  {
   "cell_type": "markdown",
   "metadata": {},
   "source": [
    "- Generic\r\n",
    "\r\n",
    "- Mutable\r\n",
    "\r\n",
    "- Contains dynamic data types\r\n",
    "\r\n",
    "- Unique values\r\n",
    "\r\n",
    "- Unorderable"
   ]
  },
  {
   "cell_type": "markdown",
   "metadata": {},
   "source": [
    "## 7.2. Interacting with sets"
   ]
  },
  {
   "cell_type": "markdown",
   "metadata": {},
   "source": [
    "### 7.2.1. Creating sets"
   ]
  },
  {
   "cell_type": "code",
   "execution_count": null,
   "metadata": {},
   "outputs": [],
   "source": [
    "st = {1, 2, 3, 'a', 'b', 'c'}\r\n",
    "print(st)"
   ]
  },
  {
   "cell_type": "markdown",
   "metadata": {},
   "source": [
    "### 7.2.2. Deleting items or entire sets"
   ]
  },
  {
   "cell_type": "code",
   "execution_count": null,
   "metadata": {},
   "outputs": [],
   "source": [
    "st = {1, 2, 3, 'a', 'b', 'c'}\r\n",
    "print(st)\r\n",
    "\r\n",
    "# deleting a item of sets\r\n",
    "st.pop()\r\n",
    "st.remove('c')\r\n",
    "print(st)\r\n",
    "\r\n",
    "# deleting sets\r\n",
    "del st\r\n",
    "try:\r\n",
    "    print(st)\r\n",
    "except Exception as e:\r\n",
    "    print(e)"
   ]
  },
  {
   "cell_type": "markdown",
   "metadata": {},
   "source": [
    "### 7.2.3. Copying sets"
   ]
  },
  {
   "cell_type": "code",
   "execution_count": null,
   "metadata": {},
   "outputs": [],
   "source": [
    "st = {*{1, 2, 3}, *{'a', 'b', 'c'}}\r\n",
    "print(st)"
   ]
  },
  {
   "cell_type": "markdown",
   "metadata": {},
   "source": [
    "### 7.2.4. Unpacking sets"
   ]
  },
  {
   "cell_type": "code",
   "execution_count": null,
   "metadata": {},
   "outputs": [],
   "source": [
    "st = {1, 2, 3, 'a', 'b', 'c'}\r\n",
    "\r\n",
    "var1, *var2, var3 = st\r\n",
    "var4, var5, *var6 = st\r\n",
    "\r\n",
    "print(var1, var2, var3, sep='\\t')\r\n",
    "print(var4, var5, var6, sep='\\t')"
   ]
  },
  {
   "cell_type": "markdown",
   "metadata": {},
   "source": [
    "### 7.2.5. Set Comprehensions"
   ]
  },
  {
   "cell_type": "code",
   "execution_count": null,
   "metadata": {},
   "outputs": [],
   "source": [
    "st = {1, 2, 3, 'a', 'b', 'c'}\r\n",
    "\r\n",
    "mapped = {x*2 for x in st}\r\n",
    "filtered = {x*2 for x in st if ord(str(x)) % 2 == 0}\r\n",
    "\r\n",
    "print(\r\n",
    "    mapped,\r\n",
    "    filtered,\r\n",
    "    sep='\\n'\r\n",
    ")"
   ]
  },
  {
   "cell_type": "markdown",
   "metadata": {},
   "source": [
    "### 7.2.6. Mathematical operators"
   ]
  },
  {
   "cell_type": "code",
   "execution_count": null,
   "metadata": {},
   "outputs": [],
   "source": [
    "st1 = {1, 2, 3}\r\n",
    "st2 = {1, 4}\r\n",
    "\r\n",
    "print(\r\n",
    "    st1 | st2, # union\r\n",
    "    st1 & st2, # intersection\r\n",
    "    st1 - st2, # exception\r\n",
    "    st1 ^ st2, # symmetric diff\r\n",
    "    sep='\\n'\r\n",
    ")"
   ]
  },
  {
   "cell_type": "markdown",
   "metadata": {},
   "source": [
    "# 8. Dictionaries"
   ]
  },
  {
   "cell_type": "markdown",
   "metadata": {},
   "source": [
    "## 8.1. Attrs"
   ]
  },
  {
   "cell_type": "markdown",
   "metadata": {},
   "source": [
    "- Generic\r\n",
    "\r\n",
    "- Mutable\r\n",
    "\r\n",
    "- Contains dynamic data types\r\n",
    "\r\n",
    "- Unique keys\r\n",
    "\r\n",
    "- Unorderable"
   ]
  },
  {
   "cell_type": "markdown",
   "metadata": {},
   "source": [
    "## 8.2. Interacting with dictionaries"
   ]
  },
  {
   "cell_type": "markdown",
   "metadata": {},
   "source": [
    "### 8.2.1. Creating dictionaries"
   ]
  },
  {
   "cell_type": "code",
   "execution_count": null,
   "metadata": {},
   "outputs": [],
   "source": [
    "dct = {'a': 1, 'b': 2, 'c': 3}\r\n",
    "print(dct)"
   ]
  },
  {
   "cell_type": "markdown",
   "metadata": {},
   "source": [
    "### 8.2.2. Getting values"
   ]
  },
  {
   "cell_type": "code",
   "execution_count": null,
   "metadata": {},
   "outputs": [],
   "source": [
    "dct = {'a': 1, 'b': 2, 'c': 3}\r\n",
    "print(\r\n",
    "    dct['a'], \r\n",
    "    dct.get('a', 'not exists'), \r\n",
    "    sep='\\n'\r\n",
    ")"
   ]
  },
  {
   "cell_type": "markdown",
   "metadata": {},
   "source": [
    "### 8.2.3. Updating dictionaries"
   ]
  },
  {
   "cell_type": "code",
   "execution_count": null,
   "metadata": {},
   "outputs": [],
   "source": [
    "dct = {'a': 1, 'b': 2, 'c': 3}\r\n",
    "dct['a'] = 'new value'\r\n",
    "print(dct)"
   ]
  },
  {
   "cell_type": "markdown",
   "metadata": {},
   "source": [
    "### 8.2.4. Deleting items or entire dictionaries"
   ]
  },
  {
   "cell_type": "code",
   "execution_count": null,
   "metadata": {},
   "outputs": [],
   "source": [
    "dct = {'a': 1, 'b': 2, 'c': 3}\r\n",
    "print(dct)\r\n",
    "\r\n",
    "# deleting a item of dictionaries\r\n",
    "del dct['a']\r\n",
    "print(dct)\r\n",
    "\r\n",
    "# deleting dictionaries\r\n",
    "del dct\r\n",
    "try:\r\n",
    "    print(dct)\r\n",
    "except Exception as e:\r\n",
    "    print(e)"
   ]
  },
  {
   "cell_type": "markdown",
   "metadata": {},
   "source": [
    "### 8.2.5. Copying dictionaries"
   ]
  },
  {
   "cell_type": "code",
   "execution_count": null,
   "metadata": {},
   "outputs": [],
   "source": [
    "dct = {**{'e': 4}, **{'f': 5}}\r\n",
    "print(dct)"
   ]
  },
  {
   "cell_type": "markdown",
   "metadata": {},
   "source": [
    "### 8.2.6. Dictionary Comprehensions"
   ]
  },
  {
   "cell_type": "code",
   "execution_count": null,
   "metadata": {},
   "outputs": [],
   "source": [
    "dct = {'a': 1, 'b': 2, 'c': 3}\r\n",
    "\r\n",
    "mapped = {x: dct[x]*2 for x in dct}\r\n",
    "filtered = {x: dct[x]*2 for x in dct if ord(str(x)) % 2 == 0}\r\n",
    "\r\n",
    "print(\r\n",
    "    mapped,\r\n",
    "    filtered,\r\n",
    "    sep='\\n'\r\n",
    ")"
   ]
  },
  {
   "cell_type": "markdown",
   "metadata": {},
   "source": [
    "# 9. Statements"
   ]
  },
  {
   "cell_type": "markdown",
   "metadata": {},
   "source": [
    "## 9.1. Input and output statements"
   ]
  },
  {
   "cell_type": "markdown",
   "metadata": {},
   "source": [
    "**Notes**:\r\n",
    "\r\n",
    "- Default type of the input is strings\r\n",
    "\r\n",
    "- If we want to use numbers or bools, we have to convert the input to numbers or bools"
   ]
  },
  {
   "cell_type": "code",
   "execution_count": null,
   "metadata": {},
   "outputs": [],
   "source": [
    "name    = input('Enter your name: ')\r\n",
    "age     = int(input('Enter your age: '))\r\n",
    "is_male = bool(input('Enter your gender: (True/False)'))\r\n",
    "\r\n",
    "print(f'You({name}, {age}, {is_male})')"
   ]
  },
  {
   "cell_type": "markdown",
   "metadata": {},
   "source": [
    "## 9.2. Conditional statements"
   ]
  },
  {
   "cell_type": "code",
   "execution_count": null,
   "metadata": {},
   "outputs": [],
   "source": [
    "option = 1\r\n",
    "\r\n",
    "if option == 1:\r\n",
    "    print('option == 1')\r\n",
    "elif option == 2:\r\n",
    "    print('option == 2')\r\n",
    "else:\r\n",
    "    print('option != 1 neither option != 2')"
   ]
  },
  {
   "cell_type": "markdown",
   "metadata": {},
   "source": [
    "## 9.3. Loop statements"
   ]
  },
  {
   "cell_type": "markdown",
   "metadata": {},
   "source": [
    "### 9.3.1. while"
   ]
  },
  {
   "cell_type": "code",
   "execution_count": null,
   "metadata": {},
   "outputs": [],
   "source": [
    "i = 1\r\n",
    "while i < 10:\r\n",
    "    print(i, end='\\t')\r\n",
    "    i += 1\r\n",
    "print('\\nEnd of while:', i)"
   ]
  },
  {
   "cell_type": "code",
   "execution_count": null,
   "metadata": {},
   "outputs": [],
   "source": [
    "names = ['dau', 'xanh', 'rau', 'muong']\r\n",
    "\r\n",
    "# while-else logic of Python\r\n",
    "i = 0\r\n",
    "while i < len(names):\r\n",
    "    if names[i].startswith('t'):\r\n",
    "        print('Found by Python')\r\n",
    "        break\r\n",
    "    i += 1\r\n",
    "else:\r\n",
    "    print('Not found by Python')\r\n",
    "\r\n",
    "# while logic of other programming languages\r\n",
    "found: bool = False # new declaration\r\n",
    "i = 0\r\n",
    "while i < len(names):\r\n",
    "    if names[i].startswith('t'):\r\n",
    "        found = True\r\n",
    "        break\r\n",
    "    i += 1\r\n",
    "\r\n",
    "if found:\r\n",
    "    print('Found by other programming languages')\r\n",
    "else:\r\n",
    "    print('Not found by other programming languages')"
   ]
  },
  {
   "cell_type": "markdown",
   "metadata": {},
   "source": [
    "### 9.3.2. for"
   ]
  },
  {
   "cell_type": "code",
   "execution_count": null,
   "metadata": {},
   "outputs": [],
   "source": [
    "for i in range(10):\r\n",
    "    print(i, end='\\t')\r\n",
    "\r\n",
    "print()\r\n",
    "\r\n",
    "for i in range(5, 10):\r\n",
    "    print(i, end='\\t')\r\n",
    "\r\n",
    "print()\r\n",
    "\r\n",
    "for i in range(5, 10, 2):\r\n",
    "    print(i, end='\\t')"
   ]
  },
  {
   "cell_type": "code",
   "execution_count": null,
   "metadata": {},
   "outputs": [],
   "source": [
    "names = ['dau', 'xanh', 'rau', 'muong']\r\n",
    "\r\n",
    "for n in names:\r\n",
    "    print(n, end='\\t')\r\n",
    "\r\n",
    "print()\r\n",
    "\r\n",
    "for i in range(len(names)):\r\n",
    "    print(names[i], end='\\t')"
   ]
  },
  {
   "cell_type": "code",
   "execution_count": null,
   "metadata": {},
   "outputs": [],
   "source": [
    "names = ['dau', 'xanh', 'rau', 'muong']\r\n",
    "\r\n",
    "# for-else logic of Python\r\n",
    "for n in names:\r\n",
    "    if n.startswith('t'):\r\n",
    "        print('Found by Python')\r\n",
    "        break\r\n",
    "else:\r\n",
    "    print('Not found by Python')\r\n",
    "\r\n",
    "# for logic of other programming languages\r\n",
    "found: bool = False # new declaration\r\n",
    "for n in names:\r\n",
    "    if n.startswith('t'):\r\n",
    "        found = True\r\n",
    "        break\r\n",
    "\r\n",
    "if found:\r\n",
    "    print('Found by other programming languages')\r\n",
    "else:\r\n",
    "    print('Not found by other programming languages')"
   ]
  },
  {
   "cell_type": "markdown",
   "metadata": {},
   "source": [
    "# 10. Defs"
   ]
  },
  {
   "cell_type": "markdown",
   "metadata": {},
   "source": [
    "## 10.1. Syntaxs"
   ]
  },
  {
   "cell_type": "code",
   "execution_count": null,
   "metadata": {},
   "outputs": [],
   "source": [
    "def greeting(first_name, last_name):\r\n",
    "    return f'Hi, {first_name + last_name}'\r\n",
    "\r\n",
    "print(\r\n",
    "    greeting('foo', 'bar'), # don't specify args\r\n",
    "    greeting(first_name='foo', last_name='bar'), # specify args\r\n",
    "    sep='\\n'\r\n",
    ")"
   ]
  },
  {
   "cell_type": "markdown",
   "metadata": {},
   "source": [
    "## 10.2. Default args"
   ]
  },
  {
   "cell_type": "markdown",
   "metadata": {},
   "source": [
    "**Note**: Default args have to be passed to the last in args list"
   ]
  },
  {
   "cell_type": "code",
   "execution_count": null,
   "metadata": {},
   "outputs": [],
   "source": [
    "def greeting(first_name='first', last_name='last'):\r\n",
    "    return f'Hi, {first_name + last_name}'\r\n",
    "\r\n",
    "print(\r\n",
    "    greeting(), # don't pass args\r\n",
    "    greeting(first_name='foo', last_name='bar'), # pass args\r\n",
    "    sep='\\n'\r\n",
    ") "
   ]
  },
  {
   "cell_type": "markdown",
   "metadata": {},
   "source": [
    "## 10.3. `*args` and `**kwargs`"
   ]
  },
  {
   "cell_type": "markdown",
   "metadata": {},
   "source": [
    "**Note**: `*args` and `**kwargs` have to be passed to the last in args list"
   ]
  },
  {
   "cell_type": "code",
   "execution_count": null,
   "metadata": {},
   "outputs": [],
   "source": [
    "def greeting(*args): # *args makes args is a Tuple\r\n",
    "    return args\r\n",
    "\r\n",
    "def info(**kwargs): # **kwargs makes kwargs is a Dict\r\n",
    "    return kwargs\r\n",
    "\r\n",
    "print(\r\n",
    "    greeting('foo', 'bar', 'foobar'),\r\n",
    "    info(first_name='foo', last_name='bar', full_name='foobar'),\r\n",
    "    sep='\\n'\r\n",
    ")"
   ]
  },
  {
   "cell_type": "markdown",
   "metadata": {},
   "source": [
    "## 10.4. Scopes"
   ]
  },
  {
   "cell_type": "markdown",
   "metadata": {},
   "source": [
    "- Priorities: Built-in > Global > Enclosing > Local\r\n",
    "\r\n",
    "- Mechanism:\r\n",
    "\r\n",
    "  - For getting variables:\r\n",
    "\r\n",
    "    - Nếu \"x\" tồn tại thì nó chỉ có tác dụng trong phạm vi khai báo\r\n",
    "\r\n",
    "    - Nếu \"x\" không tồn tại thì \"x\" ở phạm vi lớn hơn sẽ có tác dụng\r\n",
    "\r\n",
    "    - Nếu \"x\" không tồn tại ở tất cả các phạm vi thì sẽ báo lỗi không có \"x\"\r\n",
    "\r\n",
    "  - For assigning variables:\r\n",
    "\r\n",
    "    - Do khi thay đổi giá trị thì \"x\" chắc chắn phải tồn tại, và vì \"x\" tồn tại nên nó chỉ có tác dụng trong phạm vi khai báo, \"x\" ở phạm vi lớn hơn sẽ không có tác dụng\r\n",
    "\r\n",
    "    - Muốn \"x\" ở phạm vi lớn hơn có tác dụng thì phải dùng `global` hoặc `nonlocal`"
   ]
  },
  {
   "cell_type": "markdown",
   "metadata": {},
   "source": [
    "### 10.4.1. No keyword using"
   ]
  },
  {
   "cell_type": "code",
   "execution_count": null,
   "metadata": {},
   "outputs": [],
   "source": [
    "x = 1               # global\r\n",
    "\r\n",
    "def outer():\r\n",
    "    x = 2           # enclosing\r\n",
    "\r\n",
    "    def inner():\r\n",
    "        x = 3       # local\r\n",
    "\r\n",
    "    inner()\r\n",
    "    print(x)\r\n",
    "\r\n",
    "outer()\r\n",
    "print(x)"
   ]
  },
  {
   "cell_type": "markdown",
   "metadata": {},
   "source": [
    "### 10.4.2. Using `global` keyword"
   ]
  },
  {
   "cell_type": "markdown",
   "metadata": {},
   "source": [
    "`global`: Bắt tất cả các “x” phải dùng “x” có phạm vi Global khi thay đổi giá trị"
   ]
  },
  {
   "cell_type": "code",
   "execution_count": null,
   "metadata": {},
   "outputs": [],
   "source": [
    "x = 1               # global\r\n",
    "\r\n",
    "def outer():\r\n",
    "    global x\r\n",
    "    x = 2           # global\r\n",
    "\r\n",
    "    def inner():\r\n",
    "        global x\r\n",
    "        x = 3       # global\r\n",
    "\r\n",
    "    inner()\r\n",
    "    print(x)\r\n",
    "\r\n",
    "outer()\r\n",
    "print(x)"
   ]
  },
  {
   "cell_type": "markdown",
   "metadata": {},
   "source": [
    "### 10.4.3. Using `nonlocal` keyword"
   ]
  },
  {
   "cell_type": "markdown",
   "metadata": {},
   "source": [
    "`nonlocal`: Bắt tất cả các “x” có phạm vi Local phải dùng “x” có phạm vi Enclosing khi thay đổi giá trị"
   ]
  },
  {
   "cell_type": "code",
   "execution_count": null,
   "metadata": {},
   "outputs": [],
   "source": [
    "x = 1               # global\r\n",
    "\r\n",
    "def outer():\r\n",
    "    x = 2           # enclosing\r\n",
    "\r\n",
    "    def inner():\r\n",
    "        nonlocal x\r\n",
    "        x = 3       # enclosing\r\n",
    "\r\n",
    "    inner()\r\n",
    "    print(x)\r\n",
    "\r\n",
    "outer()\r\n",
    "print(x)"
   ]
  },
  {
   "cell_type": "markdown",
   "metadata": {},
   "source": [
    "## 10.5. Decorators"
   ]
  },
  {
   "cell_type": "markdown",
   "metadata": {},
   "source": [
    "- Decorator thực chất chỉ là 1 def nhận 1 def khác làm tham số\r\n",
    "\r\n",
    "- Decorator giúp mở rộng tính năng của def truyền vào decorator mà không làm thay đổi tính năng ban đầu của nó\r\n",
    "\r\n",
    "- Có thể coi decorator giống như kế thừa class nhưng áp dụng cho def"
   ]
  },
  {
   "cell_type": "markdown",
   "metadata": {},
   "source": [
    "### 10.5.1. Old way"
   ]
  },
  {
   "cell_type": "code",
   "execution_count": null,
   "metadata": {},
   "outputs": [],
   "source": [
    "# customized decorator\r\n",
    "def decorator(func):\r\n",
    "    def wrapper(*args, **kwargs):\r\n",
    "        print('--- BEGIN DECORATOR ---')\r\n",
    "\r\n",
    "        if (args and args[1] == 0) or (kwargs and kwargs['b'] == 0):\r\n",
    "            print('Cannot divide by zero')\r\n",
    "        else:\r\n",
    "            func(*args, **kwargs)\r\n",
    "\r\n",
    "        print('--- END DECORATOR ---\\n')\r\n",
    "    return wrapper\r\n",
    "\r\n",
    "# origin defs\r\n",
    "def func1():\r\n",
    "    print(f'Working with {func1.__name__}')\r\n",
    "\r\n",
    "def func2(a, b):\r\n",
    "    print(f'Working with {func2.__name__} and a/b = {a/b}')\r\n",
    "\r\n",
    "# execution\r\n",
    "decorator(func1)()\r\n",
    "decorator(func2)(1, 1)\r\n",
    "decorator(func2)(a=1, b=2)"
   ]
  },
  {
   "cell_type": "markdown",
   "metadata": {},
   "source": [
    "### 10.5.2. New way"
   ]
  },
  {
   "cell_type": "code",
   "execution_count": null,
   "metadata": {},
   "outputs": [],
   "source": [
    "from functools import wraps\r\n",
    "\r\n",
    "# customized decorator\r\n",
    "def decorator(func):\r\n",
    "    \r\n",
    "    @wraps(func)\r\n",
    "    def wrapper(*args, **kwargs):\r\n",
    "        print('--- BEGIN DECORATOR ---')\r\n",
    "\r\n",
    "        if (args and args[1] == 0) or (kwargs and kwargs['b'] == 0):\r\n",
    "            print('Cannot divide by zero')\r\n",
    "        else:\r\n",
    "            func(*args, **kwargs)\r\n",
    "\r\n",
    "        print('--- END DECORATOR ---\\n')\r\n",
    "    return wrapper\r\n",
    "\r\n",
    "# origin defs\r\n",
    "@decorator\r\n",
    "def func1():\r\n",
    "    print(f'Working with {func1.__name__}')\r\n",
    "\r\n",
    "@decorator\r\n",
    "def func2(a, b):\r\n",
    "    print(f'Working with {func2.__name__} and a/b = {a/b}')\r\n",
    "\r\n",
    "# execution\r\n",
    "func1()\r\n",
    "func2(1, 1)\r\n",
    "func2(a=1, b=2)"
   ]
  },
  {
   "cell_type": "markdown",
   "metadata": {},
   "source": [
    "### 10.5.3. Class decorators"
   ]
  },
  {
   "cell_type": "code",
   "execution_count": null,
   "metadata": {},
   "outputs": [],
   "source": [
    "class Decorator(object):\r\n",
    "    def __init__(self, func):\r\n",
    "        self.func = func\r\n",
    "    \r\n",
    "    def __call__(self, *args, **kwargs):\r\n",
    "        print('--- BEGIN DECORATOR ---')\r\n",
    "\r\n",
    "        if (args and args[1] == 0) or (kwargs and kwargs['b'] == 0):\r\n",
    "            print('Cannot divide by zero')\r\n",
    "        else:\r\n",
    "            self.func(*args, **kwargs)\r\n",
    "\r\n",
    "        print('--- END DECORATOR ---\\n')\r\n",
    "\r\n",
    "# origin defs\r\n",
    "@Decorator\r\n",
    "def func1():\r\n",
    "    print(f'Working with func1')\r\n",
    "\r\n",
    "@Decorator\r\n",
    "def func2(a, b):\r\n",
    "    print(f'Working with func2 and a/b = {a/b}')\r\n",
    "\r\n",
    "# execution\r\n",
    "func1()\r\n",
    "func2(1, 1)\r\n",
    "func2(a=1, b=2)"
   ]
  },
  {
   "cell_type": "markdown",
   "metadata": {},
   "source": [
    "## 10.6. Generators"
   ]
  },
  {
   "cell_type": "markdown",
   "metadata": {},
   "source": [
    "### 10.6.1. Problems"
   ]
  },
  {
   "cell_type": "markdown",
   "metadata": {},
   "source": [
    "Problems with returning a set of values:\r\n",
    "\r\n",
    "- Problem 1: Nếu dùng `return` thì chỉ trả về được 1 giá trị duy nhất\r\n",
    "\r\n",
    "- Problem 2: Nếu dùng List (hoặc Tuple, Set, Dictionary, …) để lưu tập dữ liệu thì có thể trả về 1 tập dữ liệu như mong muốn, nhưng dữ liệu trả về sẽ được lưu cùng 1 lúc trong máy tính dẫn đến tốn tài nguyên máy tính nếu tập dữ liệu lớn"
   ]
  },
  {
   "cell_type": "code",
   "execution_count": null,
   "metadata": {},
   "outputs": [],
   "source": [
    "def problem1():\r\n",
    "    for i in range(10):\r\n",
    "        return i\r\n",
    "\r\n",
    "print(problem1())"
   ]
  },
  {
   "cell_type": "code",
   "execution_count": null,
   "metadata": {},
   "outputs": [],
   "source": [
    "def problem2():\r\n",
    "    tmp = []\r\n",
    "    for i in range(10):\r\n",
    "        tmp.append(i)\r\n",
    "    return tmp\r\n",
    "\r\n",
    "for i in problem2():\r\n",
    "    print(i, end='\\t')"
   ]
  },
  {
   "cell_type": "markdown",
   "metadata": {},
   "source": [
    "### 10.6.2. Solution"
   ]
  },
  {
   "cell_type": "markdown",
   "metadata": {},
   "source": [
    "- Dùng `yield` giúp ta có thể trả về 1 tập dữ liệu như mong muốn mà khắc phục được nhược điểm tốn tài nguyên máy tính của việc dùng List (hoặc Tuple, Set, Dictionary, …)\r\n",
    "\r\n",
    "- Mechanism:\r\n",
    "\r\n",
    "  -  `yield` giống `return` trả về 1 giá trị tại 1 thời điểm, tuy nhiên nó không nhảy ra khỏi def như `return` mà tiếp tục chạy tiếp cho đến khi thực sự kết thúc thì dừng\r\n",
    "  \r\n",
    "  -  Các giá trị lần lượt được `yield` trả về sẽ được lưu trong Generator\r\n",
    "  \r\n",
    "  -  Generator có tính chất giống với List (hoặc Tuple, Set, Dictionary, …) là có thể lặp (iterable) nhưng khác là dữ liệu sẽ không được lưu cùng 1 lúc trong máy tính, từ đó không tốn tài nguyên máy tính nếu tập dữ liệu lớn"
   ]
  },
  {
   "cell_type": "code",
   "execution_count": null,
   "metadata": {},
   "outputs": [],
   "source": [
    "def generator():\r\n",
    "    for i in range(10):\r\n",
    "        yield i\r\n",
    "\r\n",
    "for i in generator():\r\n",
    "    print(i, end='\\t')"
   ]
  },
  {
   "cell_type": "markdown",
   "metadata": {},
   "source": [
    "- **Notes**: \r\n",
    "\r\n",
    "  - Generator is only iterated just one time\r\n",
    "\r\n",
    "  - `gen` chỉ dùng được 1 lần cho lặp rồi nên không thể dùng lại lần 2 cho `list(gen)` và `[*gen]` được nữa, vì vậy mới in List rỗng `[]`"
   ]
  },
  {
   "cell_type": "code",
   "execution_count": null,
   "metadata": {},
   "outputs": [],
   "source": [
    "def generator():\r\n",
    "    for i in range(10):\r\n",
    "        yield i\r\n",
    "\r\n",
    "gen = generator()\r\n",
    "\r\n",
    "for i in gen:\r\n",
    "    print(i, end='\\t')\r\n",
    "\r\n",
    "print(\r\n",
    "    '\\n',\r\n",
    "    [*gen],\r\n",
    "    list(gen),\r\n",
    "    sep='\\t'\r\n",
    ")"
   ]
  },
  {
   "cell_type": "markdown",
   "metadata": {},
   "source": [
    "- Beside, Generator is also created by Tuple Comprehensions"
   ]
  },
  {
   "cell_type": "code",
   "execution_count": null,
   "metadata": {},
   "outputs": [],
   "source": [
    "gen = (x for x in range(10))\r\n",
    "print(gen)\r\n",
    "\r\n",
    "for i in gen:\r\n",
    "    print(i, end='\\t')"
   ]
  },
  {
   "cell_type": "markdown",
   "metadata": {},
   "source": [
    "# 11. Basic I/O"
   ]
  },
  {
   "cell_type": "markdown",
   "metadata": {},
   "source": [
    "![`with` modes](./images/with_modes.png)"
   ]
  },
  {
   "cell_type": "markdown",
   "metadata": {},
   "source": [
    "## 11.1. Writing files"
   ]
  },
  {
   "cell_type": "code",
   "execution_count": null,
   "metadata": {},
   "outputs": [],
   "source": [
    "with open('./files/textfile.txt', mode='w') as f:\r\n",
    "    if f.writable():\r\n",
    "        f.writelines(['First line\\n', 'Second line\\n', 'Third line\\n'])\r\n",
    "        print('Done')"
   ]
  },
  {
   "cell_type": "markdown",
   "metadata": {},
   "source": [
    "## 11.2. Appending files"
   ]
  },
  {
   "cell_type": "code",
   "execution_count": null,
   "metadata": {},
   "outputs": [],
   "source": [
    "with open('./files/textfile.txt', mode='a') as f:\r\n",
    "    if f.writable():\r\n",
    "       f.write('Fourth line\\n')\r\n",
    "       print('Done')"
   ]
  },
  {
   "cell_type": "markdown",
   "metadata": {},
   "source": [
    "## 11.3. Reading files"
   ]
  },
  {
   "cell_type": "code",
   "execution_count": null,
   "metadata": {},
   "outputs": [],
   "source": [
    "with open('./files/textfile.txt', mode='r') as f:\r\n",
    "    if f.readable():\r\n",
    "        content1 = f.read()\r\n",
    "        f.seek(0) # reset cursor to read file one more time\r\n",
    "        content2 = f.readlines()\r\n",
    "\r\n",
    "print(\r\n",
    "    content1,\r\n",
    "    content2,\r\n",
    "    sep='\\n'\r\n",
    ")"
   ]
  },
  {
   "cell_type": "markdown",
   "metadata": {},
   "source": [
    "# 12. Exceptions"
   ]
  },
  {
   "cell_type": "markdown",
   "metadata": {},
   "source": [
    "## 12.1. Using `try - except` and `raise` in the same scope"
   ]
  },
  {
   "cell_type": "code",
   "execution_count": null,
   "metadata": {},
   "outputs": [],
   "source": [
    "def type1():\r\n",
    "    try:\r\n",
    "        raise Exception('Exception in def type1')\r\n",
    "\r\n",
    "    except Exception as e:\r\n",
    "        print(e)\r\n",
    "        \r\n",
    "    finally:\r\n",
    "        print('Done')\r\n",
    "\r\n",
    "type1()"
   ]
  },
  {
   "cell_type": "markdown",
   "metadata": {},
   "source": [
    "## 12.2. Using `try - except` and `raise` in different scopes"
   ]
  },
  {
   "cell_type": "code",
   "execution_count": null,
   "metadata": {},
   "outputs": [],
   "source": [
    "def type2():\r\n",
    "    try:\r\n",
    "        raise Exception('Exception in def type2')\r\n",
    "\r\n",
    "    except Exception as e:\r\n",
    "        raise e\r\n",
    "        \r\n",
    "    finally:\r\n",
    "        print('Done')\r\n",
    "\r\n",
    "try:\r\n",
    "    type2()\r\n",
    "except Exception as e:\r\n",
    "    print(e)"
   ]
  },
  {
   "cell_type": "markdown",
   "metadata": {},
   "source": [
    "## 12.3. Using `try - catch` without `raise`"
   ]
  },
  {
   "cell_type": "code",
   "execution_count": null,
   "metadata": {},
   "outputs": [],
   "source": [
    "def type3():\r\n",
    "    try:\r\n",
    "        age = int(input('Enter your age: '))\r\n",
    "        rate = 10/age\r\n",
    "\r\n",
    "        with open('./files/age.txt', 'w') as f:\r\n",
    "            f.write(f'You({age}, {rate})')\r\n",
    "            \r\n",
    "        with open('./files/age.txt', 'r') as f:\r\n",
    "            print(f.read())\r\n",
    "\r\n",
    "    except (ValueError, ZeroDivisionError) as val_e:\r\n",
    "        print(val_e)\r\n",
    "        \r\n",
    "    except IOError as io_e:\r\n",
    "        print(io_e)\r\n",
    "\r\n",
    "    except Exception as e:\r\n",
    "        print(e)\r\n",
    "\r\n",
    "    finally:\r\n",
    "        print('Done')\r\n",
    "\r\n",
    "type3()"
   ]
  },
  {
   "cell_type": "markdown",
   "metadata": {},
   "source": [
    "# 13. Classes"
   ]
  },
  {
   "cell_type": "markdown",
   "metadata": {},
   "source": [
    "## 13.1. Creating classes"
   ]
  },
  {
   "cell_type": "markdown",
   "metadata": {},
   "source": [
    "- Use `type()` or `isinstance()` to get type of instances\r\n",
    "\r\n",
    "- Use `id()` to get address of instances in memory\r\n",
    "\r\n",
    "- Private and public attrs:\r\n",
    "  \r\n",
    "  - Private attrs start with double underscore \"`__`\" such as `__role`, `__email` and `__password`\r\n",
    "  \r\n",
    "  - Public attrs start without double underscore \"`__`\" such as `role`, `email` and `password`\r\n",
    "  \r\n",
    "- Class and instance attrs:  \r\n",
    "  \r\n",
    "  - Class attrs:\r\n",
    "    \r\n",
    "    - Are declared in class such as `__role` and `role`\r\n",
    "\r\n",
    "    - Are got by the class such as `Admin.role`\r\n",
    "\r\n",
    "    - Are the same with all instances that created by the class so if an instance changes class attrs, other instances will be changed\r\n",
    "  \r\n",
    "  - Instance attrs:\r\n",
    "    \r\n",
    "    - Are declared in any defs such as `__email`, `__password`, `email` and `password`\r\n",
    "\r\n",
    "    - Are got by the instance such as `admin1.email` and `admin1.password`\r\n",
    "    \r\n",
    "    - Are different between each instance that created by the class so if an instance changes its instance attrs, other instances will not be changed\r\n",
    "\r\n",
    "  - Mechanism: \r\n",
    "\r\n",
    "    - Khi truy vấn 1 attr của instance, instance sẽ truy vấn attr của nó trước, nếu không tồn tại thì sẽ truy vấn đến attr của class, nếu tiếp tục không tồn tại thì sẽ báo lỗi\r\n",
    "\r\n",
    "    - When get an instance attr:\r\n",
    "      \r\n",
    "      - if the instance attr: Use the instance attr\r\n",
    "      \r\n",
    "      - elif the class attr: Use the class attr\r\n",
    "      \r\n",
    "      - else: Notify error\r\n",
    "\r\n",
    "  - **Note**: When an instance attr and a class attr have the same name:\r\n",
    "\r\n",
    "    - The instance attr is used\r\n",
    "    \r\n",
    "    - The class attr is dismissed\r\n",
    "\r\n",
    "    => Instance attr > Class attr\r\n",
    "\r\n",
    "- Class methods and instance methods:\r\n",
    "\r\n",
    "  - Class methods:\r\n",
    "\r\n",
    "    - Are declared in class with `@classmethod` decorator and required `cls` args\r\n",
    "\r\n",
    "    - Are got by the class such as `Admin.get_instances()`\r\n",
    "\r\n",
    "  - Instance methods:\r\n",
    "\r\n",
    "    - Are normal defs that declared in class with required `self` args\r\n",
    "\r\n",
    "    - Are got by the instance such as `admin1.get_info()`\r\n",
    "\r\n",
    "- Magic methods (built-in methods):\r\n",
    "  \r\n",
    "  - Refs: [Magic methods](https://rszalski.github.io/magicmethods/)\r\n",
    "  \r\n",
    "  - Common magic methods:\r\n",
    "    \r\n",
    "    - `__init__`: Create an instance\r\n",
    "    \r\n",
    "    - `__str__` : Print the instance information"
   ]
  },
  {
   "cell_type": "code",
   "execution_count": null,
   "metadata": {},
   "outputs": [],
   "source": [
    "class Admin:\r\n",
    "    __role = 'private admin'\r\n",
    "    role = 'public admin'\r\n",
    "\r\n",
    "    def __init__(self, email='email', password='password'):\r\n",
    "        self.email = email\r\n",
    "        self.password = password\r\n",
    "\r\n",
    "    @property\r\n",
    "    def email(self):\r\n",
    "        return self.__email\r\n",
    "\r\n",
    "    @email.setter\r\n",
    "    def email(self, value):\r\n",
    "        if not value.endswith('@gmail.com'):\r\n",
    "            value += '@gmail.com'\r\n",
    "        self.__email = value\r\n",
    "\r\n",
    "    @property\r\n",
    "    def password(self):\r\n",
    "        return self.__password\r\n",
    "\r\n",
    "    @password.setter\r\n",
    "    def password(self, value):\r\n",
    "        self.__password = value\r\n",
    "\r\n",
    "    @classmethod\r\n",
    "    def get_instances(cls):\r\n",
    "        return cls(email='default', password='default')\r\n",
    "\r\n",
    "    def get_info(self):\r\n",
    "        print(self)\r\n",
    "\r\n",
    "    def __str__(self):\r\n",
    "        return f'Admin({self.__email}, {self.__password}, {self.__role})'\r\n",
    "\r\n",
    "admin1 = Admin(email='admin', password=123456)\r\n",
    "admin2 = Admin.get_instances()\r\n",
    "\r\n",
    "admin1.get_info()\r\n",
    "\r\n",
    "print(\r\n",
    "    'Checking types:',\r\n",
    "    type(admin1),\r\n",
    "    isinstance(admin1, Admin),\r\n",
    "    sep='\\t'\r\n",
    ")\r\n",
    "\r\n",
    "print(\r\n",
    "    'Printing instances:',\r\n",
    "    admin1,\r\n",
    "    admin2,\r\n",
    "    sep='\\t'\r\n",
    ")\r\n",
    "\r\n",
    "print(\r\n",
    "    'Getting instance attrs:',\r\n",
    "    admin1.role,\r\n",
    "    admin1.email,\r\n",
    "    admin1.password,\r\n",
    "    sep='\\t'\r\n",
    ")\r\n",
    "\r\n",
    "print(\r\n",
    "    'Getting class attrs:',\r\n",
    "    Admin.role,\r\n",
    "    sep='\\t'\r\n",
    ")"
   ]
  },
  {
   "cell_type": "markdown",
   "metadata": {},
   "source": [
    "## 13.2. Inheritance"
   ]
  },
  {
   "cell_type": "markdown",
   "metadata": {},
   "source": [
    "### 13.2.1. Syntaxs"
   ]
  },
  {
   "cell_type": "markdown",
   "metadata": {},
   "source": [
    "- Use `type()` or `isinstance()` to get type of instances\r\n",
    "\r\n",
    "- Use `issubclass()` to check SubClass\r\n",
    "\r\n",
    "- **Notes**:\r\n",
    "  \r\n",
    "  - Use `self` to reuse attrs of Parent Class in Child Class\r\n",
    "\r\n",
    "  - Use `super()` to reuse methods of Parent Class in Child Class\r\n",
    "\r\n",
    "  - Declare the same methods in Child Class to override methods of Parent Class such as `get_info()`"
   ]
  },
  {
   "cell_type": "code",
   "execution_count": null,
   "metadata": {},
   "outputs": [],
   "source": [
    "class Person:\r\n",
    "    def __init__(self, name):\r\n",
    "        self.name = name\r\n",
    "\r\n",
    "    def get_info(self):\r\n",
    "        return f'Person({self.name})'\r\n",
    "\r\n",
    "class Admin(Person):\r\n",
    "    def __init__(self, name, email, password):\r\n",
    "        super().__init__(name)\r\n",
    "        self.email = email\r\n",
    "        self.password = password\r\n",
    "\r\n",
    "    def get_info(self):\r\n",
    "        return f'Admin({self.name}, {self.email}, {self.password})'\r\n",
    "\r\n",
    "person = Person(name='person')\r\n",
    "print(person.get_info())\r\n",
    "\r\n",
    "admin = Admin(name='admin', email='admin@gmail.com', password=123456)\r\n",
    "print(\r\n",
    "    admin.get_info(),\r\n",
    "    issubclass(Admin, Person),\r\n",
    "    sep='\\t'\r\n",
    ")"
   ]
  },
  {
   "cell_type": "markdown",
   "metadata": {},
   "source": [
    "### 13.2.2. Inheritance from built-in classes"
   ]
  },
  {
   "cell_type": "markdown",
   "metadata": {},
   "source": [
    "We can a create class that inherits from built-in classes such as `str`, `list`, `set`, `dict`, etc"
   ]
  },
  {
   "cell_type": "code",
   "execution_count": null,
   "metadata": {},
   "outputs": [],
   "source": [
    "class Text(str):\r\n",
    "    def duplicate(self):\r\n",
    "        return self + self\r\n",
    "\r\n",
    "class TrackableList(list):\r\n",
    "    def append(self, object):\r\n",
    "        super().append(object)\r\n",
    "        return self\r\n",
    "\r\n",
    "text = Text('abc')\r\n",
    "tlst = TrackableList()\r\n",
    "\r\n",
    "print(\r\n",
    "    text.duplicate(),\r\n",
    "    tlst.append('123'),\r\n",
    "    sep='\\n'\r\n",
    ")"
   ]
  },
  {
   "cell_type": "markdown",
   "metadata": {},
   "source": [
    "### 13.2.3. Multiple inheritance"
   ]
  },
  {
   "cell_type": "markdown",
   "metadata": {},
   "source": [
    "Python supports multiple inheritance but not recommend to use:\r\n",
    "\r\n",
    "- Same defs are used by inheritance orders\r\n",
    "\r\n",
    "- All different defs are used"
   ]
  },
  {
   "cell_type": "code",
   "execution_count": null,
   "metadata": {},
   "outputs": [],
   "source": [
    "class Flyer:\r\n",
    "    def fly(self):\r\n",
    "        return 'flying'\r\n",
    "\r\n",
    "    def __str__(self):\r\n",
    "        return 'Flyer'\r\n",
    "\r\n",
    "class Swimmer:\r\n",
    "    def swim(self):\r\n",
    "        return 'swimming'\r\n",
    "\r\n",
    "    def __str__(self):\r\n",
    "        return 'Swimmer'\r\n",
    "\r\n",
    "# multiple inheritance\r\n",
    "class Person1(Flyer, Swimmer):\r\n",
    "    pass\r\n",
    "\r\n",
    "# multiple inheritance\r\n",
    "class Person2(Swimmer, Flyer):\r\n",
    "    pass\r\n",
    "\r\n",
    "p1 = Person1()\r\n",
    "p2 = Person2()\r\n",
    "\r\n",
    "print(\r\n",
    "    'Same defs:',\r\n",
    "    f'I am a {p1}',\r\n",
    "    f'I am a {p2}',\r\n",
    "    sep='\\t'\r\n",
    ")\r\n",
    "\r\n",
    "print(\r\n",
    "    'Different defs:',\r\n",
    "    f'I am {p1.fly()} and {p1.swim()}',\r\n",
    "    f'I am {p2.fly()} and {p2.swim()}',\r\n",
    "    sep='\\t'\r\n",
    ")"
   ]
  },
  {
   "cell_type": "markdown",
   "metadata": {},
   "source": [
    "## 13.3. Abstraction"
   ]
  },
  {
   "cell_type": "markdown",
   "metadata": {},
   "source": [
    "**Notes**: \r\n",
    "\r\n",
    "- Cannot instantiate Abstract Class\r\n",
    "\r\n",
    "- Have to override abstract methods of Abstract Class in Child Class"
   ]
  },
  {
   "cell_type": "code",
   "execution_count": null,
   "metadata": {},
   "outputs": [],
   "source": [
    "from abc import ABC, abstractmethod\r\n",
    "\r\n",
    "class Person(ABC):\r\n",
    "    def __init__(self, name):\r\n",
    "        self.name = name\r\n",
    "\r\n",
    "    @abstractmethod\r\n",
    "    def get_info(self):\r\n",
    "        pass\r\n",
    "\r\n",
    "class Admin(Person):\r\n",
    "    def __init__(self, name, email, password):\r\n",
    "        super().__init__(name)\r\n",
    "        self.email = email\r\n",
    "        self.password = password\r\n",
    "\r\n",
    "    def get_info(self):\r\n",
    "        return f'Admin({self.name}, {self.email}, {self.password})'\r\n",
    "\r\n",
    "try:\r\n",
    "    # 100% surely get error because cannot instantiate Abstract Class\r\n",
    "    person = Person(name='person')\r\n",
    "    print(person.get_info())\r\n",
    "except Exception as e:\r\n",
    "    print(e)\r\n",
    "\r\n",
    "admin = Admin(name='admin', email='admin@gmail.com', password=123456)\r\n",
    "print(admin.get_info())"
   ]
  },
  {
   "cell_type": "markdown",
   "metadata": {},
   "source": [
    "## 13.4. Polimorphism"
   ]
  },
  {
   "cell_type": "code",
   "execution_count": null,
   "metadata": {},
   "outputs": [],
   "source": [
    "class Animal:\r\n",
    "    def __init__(self, name):\r\n",
    "        self.name = name\r\n",
    "\r\n",
    "    def speak(self):\r\n",
    "        raise Exception('SubClass must implement this method')\r\n",
    "\r\n",
    "class Dog(Animal):\r\n",
    "    def __init__(self, name):\r\n",
    "        super().__init__(name)\r\n",
    "\r\n",
    "    def speak(self):\r\n",
    "        return f'{self.name} says woof'\r\n",
    "\r\n",
    "class Cat(Animal):\r\n",
    "    def __init__(self, name):\r\n",
    "        super().__init__(name)\r\n",
    "\r\n",
    "    def speak(self):\r\n",
    "        return f'{self.name} says meow'\r\n",
    "\r\n",
    "print(\r\n",
    "    Dog('Husky').speak(),\r\n",
    "    Cat('Tom').speak(),\r\n",
    "    sep='\\n'\r\n",
    ")"
   ]
  },
  {
   "cell_type": "markdown",
   "metadata": {},
   "source": [
    "# 14. Modules"
   ]
  },
  {
   "cell_type": "markdown",
   "metadata": {},
   "source": [
    "## 14.1. Importing modules"
   ]
  },
  {
   "cell_type": "markdown",
   "metadata": {},
   "source": [
    "- Importing some parts of a module:\r\n",
    "\r\n",
    "    ```python\r\n",
    "    from module import attrs, methods\r\n",
    "    ```\r\n",
    "\r\n",
    "- Importing an entire module:\r\n",
    "\r\n",
    "    ```python\r\n",
    "    import module\r\n",
    "    ```\r\n",
    "\r\n",
    "![Importing modules](./images/importing_modules.png)"
   ]
  },
  {
   "cell_type": "code",
   "execution_count": null,
   "metadata": {},
   "outputs": [],
   "source": [
    "# importing packages\r\n",
    "from packages.package import get_package_info\r\n",
    "from packages import package\r\n",
    "import packages.package\r\n",
    "\r\n",
    "# importing modules\r\n",
    "from module import get_module_info\r\n",
    "import module\r\n",
    "\r\n",
    "print(\r\n",
    "    get_package_info(),\r\n",
    "    get_module_info(),\r\n",
    "    sep='\\n'\r\n",
    ")"
   ]
  },
  {
   "cell_type": "markdown",
   "metadata": {},
   "source": [
    "## 14.2. Attrs of modules"
   ]
  },
  {
   "cell_type": "markdown",
   "metadata": {},
   "source": [
    "- Use `dir()` to list all attrs of modules"
   ]
  },
  {
   "cell_type": "code",
   "execution_count": null,
   "metadata": {},
   "outputs": [],
   "source": [
    "import packages.package\r\n",
    "import module\r\n",
    "\r\n",
    "print(\r\n",
    "    dir(packages.package),\r\n",
    "    dir(module),\r\n",
    "    sep='\\n'\r\n",
    ")"
   ]
  },
  {
   "cell_type": "markdown",
   "metadata": {},
   "source": [
    "- Common built-in attrs of modules:\r\n",
    "  - `__name__`:\r\n",
    "  \r\n",
    "    - Returns `__main__` if it is called in the own file\r\n",
    "  \r\n",
    "    - Returns path and filename if it is called in another file\r\n",
    "  \r\n",
    "  - `__package__`:\r\n",
    "    \r\n",
    "    - Returns `None` if it is called in the own file\r\n",
    "    \r\n",
    "    - Returns package name if it is called in another file"
   ]
  },
  {
   "cell_type": "code",
   "execution_count": null,
   "metadata": {},
   "outputs": [],
   "source": [
    "print(\r\n",
    "    f'Filename: {__name__}',\r\n",
    "    f'Package name: {__package__}',\r\n",
    "    sep='\\t'\r\n",
    ")"
   ]
  },
  {
   "cell_type": "markdown",
   "metadata": {},
   "source": [
    "- Because `__name__` always returns \"`__main__`\" and `__package__` always return `None` if they are called in the own file, we can execute code like this:"
   ]
  },
  {
   "cell_type": "code",
   "execution_count": null,
   "metadata": {},
   "outputs": [],
   "source": [
    "if __name__ == '__main__' and __package__ == None:\r\n",
    "    print(\r\n",
    "        f'Filename: {__name__}',\r\n",
    "        f'Package name: {__package__}',\r\n",
    "        sep='\\t'\r\n",
    "    )"
   ]
  },
  {
   "cell_type": "markdown",
   "metadata": {},
   "source": [
    "# 15. Standard built-in packages"
   ]
  },
  {
   "cell_type": "markdown",
   "metadata": {},
   "source": [
    "## abc"
   ]
  },
  {
   "cell_type": "markdown",
   "metadata": {},
   "source": [
    "Creating Abstract Classes"
   ]
  },
  {
   "cell_type": "code",
   "execution_count": null,
   "metadata": {},
   "outputs": [],
   "source": [
    "from abc import ABC, abstractmethod\r\n",
    "\r\n",
    "class Person(ABC):\r\n",
    "    def __init__(self, name):\r\n",
    "        self.name = name\r\n",
    "\r\n",
    "    @abstractmethod\r\n",
    "    def get_info(self):\r\n",
    "        pass\r\n",
    "\r\n",
    "class Admin(Person):\r\n",
    "    def __init__(self, name, email, password):\r\n",
    "        super().__init__(name)\r\n",
    "        self.email = email\r\n",
    "        self.password = password\r\n",
    "\r\n",
    "    def get_info(self):\r\n",
    "        return f'Admin({self.name}, {self.email}, {self.password})'\r\n",
    "\r\n",
    "try:\r\n",
    "    # 100% surely get error because cannot instantiate Abstract Class\r\n",
    "    person = Person(name='person')\r\n",
    "    print(person.get_info())\r\n",
    "except Exception as e:\r\n",
    "    print(e)\r\n",
    "\r\n",
    "admin = Admin(name='admin', email='admin@gmail.com', password=123456)\r\n",
    "print(admin.get_info())"
   ]
  },
  {
   "cell_type": "markdown",
   "metadata": {},
   "source": [
    "## collections"
   ]
  },
  {
   "cell_type": "markdown",
   "metadata": {},
   "source": [
    "- Creating simple instances and comparing 2 instances in the convenient way\r\n",
    "\r\n",
    "- **Note**: Cannot update instances that created by `namedtuple`"
   ]
  },
  {
   "cell_type": "code",
   "execution_count": null,
   "metadata": {},
   "outputs": [],
   "source": [
    "from collections import namedtuple\r\n",
    "\r\n",
    "SimplePoint = namedtuple('SimplePoint', ['x', 'y'])\r\n",
    "\r\n",
    "class NormalPoint:\r\n",
    "    def __init__(self, x, y):\r\n",
    "        self.x = x\r\n",
    "        self.y = y\r\n",
    "\r\n",
    "    def __eq__(self, other):\r\n",
    "        return self.x == other.x and self.y == other.y\r\n",
    "\r\n",
    "sp1 = SimplePoint(x=1, y=2)\r\n",
    "sp2 = SimplePoint(x=1, y=2)\r\n",
    "\r\n",
    "np1 = NormalPoint(x=1, y=2)\r\n",
    "np2 = NormalPoint(x=1, y=2)\r\n",
    "\r\n",
    "print(\r\n",
    "    sp1 == sp2,\r\n",
    "    np1 == np2,\r\n",
    "    sep='\\n'\r\n",
    ")\r\n",
    "\r\n",
    "try:\r\n",
    "    # 100% get error because cannot update instances that created by namedtuple\r\n",
    "    sp1.x = 123\r\n",
    "except Exception as e:\r\n",
    "    print(e)"
   ]
  },
  {
   "cell_type": "markdown",
   "metadata": {},
   "source": [
    "- Counting items in collections"
   ]
  },
  {
   "cell_type": "code",
   "execution_count": null,
   "metadata": {},
   "outputs": [],
   "source": [
    "from collections import Counter\r\n",
    "\r\n",
    "lst = [1, 1, 1, 2, 1, 2, 4, 1, 3, 2, 4, 2, 4, 3]\r\n",
    "print(Counter(lst))\r\n",
    "\r\n",
    "string = 'How many times does each word show up in this sentence with a word'\r\n",
    "print(Counter(string.split()))"
   ]
  },
  {
   "cell_type": "markdown",
   "metadata": {},
   "source": [
    "## csv"
   ]
  },
  {
   "cell_type": "markdown",
   "metadata": {},
   "source": [
    "Working with csv files"
   ]
  },
  {
   "cell_type": "code",
   "execution_count": null,
   "metadata": {},
   "outputs": [],
   "source": [
    "import csv\r\n",
    "\r\n",
    "print(\r\n",
    "    '1. Writing files',\r\n",
    "    '2. Reading files',\r\n",
    "    sep='\\n'\r\n",
    ")\r\n",
    "\r\n",
    "print()\r\n",
    "\r\n",
    "option = int(input('Enter your option: '))\r\n",
    "\r\n",
    "if option == 1:\r\n",
    "    with open('files/csvfile.csv', 'w') as f:\r\n",
    "        csv.writer(f).writerows([\r\n",
    "            ['id', 'name'],\r\n",
    "            [1, 'foo'],\r\n",
    "            [2, 'bar'],\r\n",
    "            [3, 'foobar']\r\n",
    "        ])\r\n",
    "        print('Done')\r\n",
    "\r\n",
    "elif option == 2:\r\n",
    "    with open('files/csvfile.csv', 'r') as f:\r\n",
    "        print(*csv.reader(f))\r\n",
    "\r\n",
    "else:\r\n",
    "    print('Try again')"
   ]
  },
  {
   "cell_type": "markdown",
   "metadata": {},
   "source": [
    "## datetime"
   ]
  },
  {
   "cell_type": "markdown",
   "metadata": {},
   "source": [
    "- Calculating datetime"
   ]
  },
  {
   "cell_type": "code",
   "execution_count": null,
   "metadata": {},
   "outputs": [],
   "source": [
    "from datetime import datetime, timedelta\r\n",
    "\r\n",
    "dt1 = datetime(year=2021, month=7, day=29, hour=11, minute=37)\r\n",
    "dt2 = datetime.now()\r\n",
    "dt3 = dt2 + timedelta(days=1)\r\n",
    "\r\n",
    "is_greater = dt2 > dt1\r\n",
    "duration = dt2 - dt1\r\n",
    "\r\n",
    "print(\r\n",
    "    f'dt1: {dt1}',\r\n",
    "    f'dt2: {dt2}',\r\n",
    "    f'dt3: {dt3}',\r\n",
    "    f'dt2 > dt1: {is_greater}',\r\n",
    "    sep='\\n',\r\n",
    "    end='\\n\\n'\r\n",
    ")\r\n",
    "\r\n",
    "print(\r\n",
    "    f'Diff days: {duration.days}',\r\n",
    "    f'Diff seconds: {duration.seconds}',\r\n",
    "    f'Diff total seconds: {duration.total_seconds()}',\r\n",
    "    sep='\\n'\r\n",
    ")"
   ]
  },
  {
   "cell_type": "markdown",
   "metadata": {},
   "source": [
    "- Converting data types"
   ]
  },
  {
   "cell_type": "code",
   "execution_count": null,
   "metadata": {},
   "outputs": [],
   "source": [
    "from datetime import datetime\r\n",
    "from time import time\r\n",
    "\r\n",
    "fmt = '%Y/%m/%d'\r\n",
    "date_string = \"2021/07/29\"\r\n",
    "\r\n",
    "dt = datetime.now()\r\n",
    "tstmp = time()\r\n",
    "\r\n",
    "print(\r\n",
    "    f'Converting str to datetime: {datetime.strptime(date_string, fmt)}',\r\n",
    "    f'Converting datetime to str: {dt.strftime(fmt)}',\r\n",
    "    f'Converting timestamp to datetime: {datetime.fromtimestamp(tstmp)}',\r\n",
    "    sep='\\n'\r\n",
    ")"
   ]
  },
  {
   "cell_type": "markdown",
   "metadata": {},
   "source": [
    "## email and smtplib"
   ]
  },
  {
   "cell_type": "markdown",
   "metadata": {},
   "source": [
    "- **Note**: You have to go to this link [https://www.google.com/settings/security/lesssecureapps](https://www.google.com/settings/security/lesssecureapps) and enable `allow less secure apps` mode of your google account \r\n",
    "\r\n",
    "  ![sending email](./images/sending_email.png)"
   ]
  },
  {
   "cell_type": "markdown",
   "metadata": {},
   "source": [
    "- Sending emails"
   ]
  },
  {
   "cell_type": "code",
   "execution_count": null,
   "metadata": {},
   "outputs": [],
   "source": [
    "from email.mime.multipart import MIMEMultipart\r\n",
    "from email.mime.text import MIMEText\r\n",
    "from email.mime.image import MIMEImage\r\n",
    "from email.utils import formatdate\r\n",
    "import smtplib\r\n",
    "\r\n",
    "from pathlib import Path\r\n",
    "from string import Template\r\n",
    "import os\r\n",
    "\r\n",
    "template = Template(Path('files/email_template.html').read_text())\r\n",
    "body = template.substitute(name=os.environ['EMAIL_USERNAME'])\r\n",
    "\r\n",
    "message = MIMEMultipart()\r\n",
    "message['From'] = 'Trung Van'\r\n",
    "message['To'] = os.environ['EMAIL_USERNAME']\r\n",
    "message['Date'] = formatdate(localtime=True)\r\n",
    "message['Subject'] = 'Sending email from Python Document'\r\n",
    "message.attach(MIMEText(body, 'html'))\r\n",
    "message.attach(MIMEImage(Path('images/data_types.png').read_bytes()))\r\n",
    "\r\n",
    "with smtplib.SMTP(host='smtp.gmail.com', port=587) as smtp:\r\n",
    "    smtp.ehlo()\r\n",
    "    smtp.starttls()\r\n",
    "    smtp.login(os.environ['EMAIL_USERNAME'], os.environ['EMAIL_PASSWORD'])\r\n",
    "    smtp.send_message(message)\r\n",
    "    print('Done')"
   ]
  },
  {
   "cell_type": "markdown",
   "metadata": {},
   "source": [
    "## functools"
   ]
  },
  {
   "cell_type": "code",
   "execution_count": null,
   "metadata": {},
   "outputs": [],
   "source": [
    "from functools import wraps\r\n",
    "\r\n",
    "# customized decorator\r\n",
    "def decorator(func):\r\n",
    "    \r\n",
    "    @wraps(func)\r\n",
    "    def wrapper(*args, **kwargs):\r\n",
    "        print('--- BEGIN DECORATOR ---')\r\n",
    "\r\n",
    "        if (args and args[1] == 0) or (kwargs and kwargs['b'] == 0):\r\n",
    "            print('Cannot divide by zero')\r\n",
    "        else:\r\n",
    "            func(*args, **kwargs)\r\n",
    "\r\n",
    "        print('--- END DECORATOR ---\\n')\r\n",
    "    return wrapper\r\n",
    "\r\n",
    "# origin defs\r\n",
    "@decorator\r\n",
    "def func1():\r\n",
    "    print(f'Working with {func1.__name__}')\r\n",
    "\r\n",
    "@decorator\r\n",
    "def func2(a, b):\r\n",
    "    print(f'Working with {func2.__name__} and a/b = {a/b}')\r\n",
    "\r\n",
    "# execution\r\n",
    "func1()\r\n",
    "func2(1, 1)\r\n",
    "func2(a=1, b=2)"
   ]
  },
  {
   "cell_type": "markdown",
   "metadata": {},
   "source": [
    "## json"
   ]
  },
  {
   "cell_type": "markdown",
   "metadata": {},
   "source": [
    "Working with json files"
   ]
  },
  {
   "cell_type": "code",
   "execution_count": null,
   "metadata": {},
   "outputs": [],
   "source": [
    "from json import dumps, loads\r\n",
    "from pathlib import Path\r\n",
    "\r\n",
    "admins = [\r\n",
    "    {'id': 1, 'name': 'foo'},\r\n",
    "    {'id': 2, 'name': 'bar'},\r\n",
    "    {'id': 3, 'name': 'foobar'},\r\n",
    "]\r\n",
    "\r\n",
    "p = Path('files/jsonfile.json')\r\n",
    "\r\n",
    "# converting data types to json and saving to files\r\n",
    "p.write_text(dumps(admins))\r\n",
    "\r\n",
    "# reading from files and converting json to data types\r\n",
    "print(loads(p.read_text()))\r\n",
    "\r\n",
    "# checking types\r\n",
    "json_string = dumps(admins)\r\n",
    "admins = loads(json_string)\r\n",
    "print(\r\n",
    "    type(json_string),\r\n",
    "    type(admins),\r\n",
    "    sep='\\t'\r\n",
    ")"
   ]
  },
  {
   "cell_type": "markdown",
   "metadata": {},
   "source": [
    "## logging"
   ]
  },
  {
   "cell_type": "markdown",
   "metadata": {},
   "source": [
    "Logging files"
   ]
  },
  {
   "cell_type": "code",
   "execution_count": null,
   "metadata": {},
   "outputs": [],
   "source": [
    "from logging import INFO, basicConfig, info\r\n",
    "\r\n",
    "''' \r\n",
    "- DEBUG: Detailed information, typically of interest only when diagnosing problems\r\n",
    "- INFO: Confirmation that things are working as expected\r\n",
    "- WARNING: An indication that something unexpected happened, or indicative of some problems in the near future (e.g. 'disk space low'). The software is still working as expected\r\n",
    "- ERROR: Due to a more serious problem, the software has not been able to perform some functions\r\n",
    "- CRITICAL: A serious error, indicating that the program itself may be unable to continue running\r\n",
    "'''\r\n",
    "\r\n",
    "def logger(func):\r\n",
    "    basicConfig(\r\n",
    "        filename=f'files/{func.__name__}.log', \r\n",
    "        level=INFO, \r\n",
    "        format='%(asctime)s:%(levelname)s:%(message)s'\r\n",
    "    )\r\n",
    "\r\n",
    "    def wrapper(*args, **kwargs):\r\n",
    "        info(f'\\nargs: {args}\\nkwargs: {kwargs}')\r\n",
    "        print('Done')\r\n",
    "\r\n",
    "    return wrapper\r\n",
    "\r\n",
    "@logger\r\n",
    "def logfile(*args, **kwargs):\r\n",
    "    pass\r\n",
    "\r\n",
    "logfile(1, 2, 3, lst=[1, 2, 3, 'a', 'b', 'c'])"
   ]
  },
  {
   "cell_type": "markdown",
   "metadata": {},
   "source": [
    "## math"
   ]
  },
  {
   "cell_type": "markdown",
   "metadata": {},
   "source": [
    "Using mathematic functions"
   ]
  },
  {
   "cell_type": "code",
   "execution_count": null,
   "metadata": {},
   "outputs": [],
   "source": [
    "from math import pi, floor\r\n",
    "\r\n",
    "print(floor(pi))"
   ]
  },
  {
   "cell_type": "markdown",
   "metadata": {},
   "source": [
    "## mem_profile"
   ]
  },
  {
   "cell_type": "markdown",
   "metadata": {},
   "source": [
    "Checking resource in memories"
   ]
  },
  {
   "cell_type": "markdown",
   "metadata": {},
   "source": [
    "## operator"
   ]
  },
  {
   "cell_type": "markdown",
   "metadata": {},
   "source": [
    "Is alternative way for lamda expression"
   ]
  },
  {
   "cell_type": "code",
   "execution_count": null,
   "metadata": {},
   "outputs": [],
   "source": [
    "from operator import attrgetter\r\n",
    "\r\n",
    "class Admin:\r\n",
    "    def __init__(self, name, age):\r\n",
    "        self.name = name\r\n",
    "        self.age = age\r\n",
    "\r\n",
    "    def __str__(self):\r\n",
    "        return f'Admin({self.name}, {self.age})'\r\n",
    "\r\n",
    "admins = [\r\n",
    "    Admin(name='foo', age=1),\r\n",
    "    Admin(name='foo', age=3),\r\n",
    "    Admin(name='foobar', age=2),\r\n",
    "]\r\n",
    "\r\n",
    "print(\r\n",
    "    'Using operator package way:',\r\n",
    "    *sorted(admins, key=attrgetter('age')),\r\n",
    "    *sorted(admins, key=attrgetter('age'), reverse=True),\r\n",
    "    sep='\\n',\r\n",
    "    end='\\n\\n'\r\n",
    ")\r\n",
    "\r\n",
    "print(\r\n",
    "    'Normal way:',\r\n",
    "    *sorted(admins, key=lambda e: e.age),\r\n",
    "    *sorted(admins, key=lambda e: e.age, reverse=True),\r\n",
    "    sep='\\n'\r\n",
    ")"
   ]
  },
  {
   "cell_type": "markdown",
   "metadata": {},
   "source": [
    "## os"
   ]
  },
  {
   "cell_type": "markdown",
   "metadata": {},
   "source": [
    "- Getting environment variables"
   ]
  },
  {
   "cell_type": "code",
   "execution_count": null,
   "metadata": {},
   "outputs": [],
   "source": [
    "from os import environ\r\n",
    "\r\n",
    "print(environ)"
   ]
  },
  {
   "cell_type": "markdown",
   "metadata": {},
   "source": [
    "- Changing filenames by a rule automaticlly"
   ]
  },
  {
   "cell_type": "code",
   "execution_count": null,
   "metadata": {},
   "outputs": [],
   "source": [
    "import os\r\n",
    "\r\n",
    "for f in os.listdir():\r\n",
    "    name, ext = os.path.splitext(f)\r\n",
    "    title, course, num = name.split('-')\r\n",
    "    title = title.strip()\r\n",
    "    course = course.strip()\r\n",
    "    num = num.strip()[1:].zfill(2)\r\n",
    "    os.rename(f, f'{num}-{title}{ext}')"
   ]
  },
  {
   "cell_type": "markdown",
   "metadata": {},
   "source": [
    "## pathlib"
   ]
  },
  {
   "cell_type": "markdown",
   "metadata": {},
   "source": [
    "- Working with paths"
   ]
  },
  {
   "cell_type": "code",
   "execution_count": null,
   "metadata": {},
   "outputs": [],
   "source": [
    "from pathlib import Path\r\n",
    "\r\n",
    "# home path\r\n",
    "p1 = Path.home()\r\n",
    "\r\n",
    "# absolute paths\r\n",
    "p2 = Path('C:/Users/Admin/Desktop')\r\n",
    "\r\n",
    "# relative paths\r\n",
    "p3 = Path('packages/package.py')\r\n",
    "\r\n",
    "# concatenating paths\r\n",
    "p4 = Path() / 'packages' / 'package.py'\r\n",
    "\r\n",
    "print(\r\n",
    "    f'p1: {p1}',\r\n",
    "    f'p2: {p2}',\r\n",
    "    f'p3: {p3}',\r\n",
    "    f'p4: {p4}',\r\n",
    "    sep='\\n'\r\n",
    ")"
   ]
  },
  {
   "cell_type": "markdown",
   "metadata": {},
   "source": [
    "- Working with files"
   ]
  },
  {
   "cell_type": "code",
   "execution_count": null,
   "metadata": {},
   "outputs": [],
   "source": [
    "from pathlib import Path\r\n",
    "from time import ctime\r\n",
    "\r\n",
    "print(\r\n",
    "    '1. Print file info',\r\n",
    "    '2. Copy file',\r\n",
    "    sep='\\n'\r\n",
    ")\r\n",
    "\r\n",
    "print()\r\n",
    "\r\n",
    "option = int(input('Enter your option: '))\r\n",
    "p = Path('packages/package.py')\r\n",
    "\r\n",
    "if option == 1:\r\n",
    "    if p.exists() and p.is_file() and not p.is_dir():\r\n",
    "        print(\r\n",
    "            f'origin: {p}',\r\n",
    "            f'absoute path: {p.absolute()}',\r\n",
    "            f'with name: {p.with_name(\"test.txt\")}',\r\n",
    "            f'with suffix: {p.with_suffix(\".txt\")}',\r\n",
    "            sep='\\n',\r\n",
    "            end='\\n\\n'\r\n",
    "        )\r\n",
    "\r\n",
    "        print(\r\n",
    "            f'parent: {p.parent}',\r\n",
    "            f'name: {p.name}',\r\n",
    "            f'stem: {p.stem}',\r\n",
    "            f'suffix: {p.suffix}',\r\n",
    "            sep='\\n',\r\n",
    "            end='\\n\\n'\r\n",
    "        )\r\n",
    "\r\n",
    "        print(\r\n",
    "            f'properties: {p.stat()}',\r\n",
    "            f'create time: {ctime(p.stat().st_ctime)}',\r\n",
    "            f'modify time: {ctime(p.stat().st_mtime)}',\r\n",
    "            sep='\\n',\r\n",
    "            end='\\n\\n'\r\n",
    "        )\r\n",
    "\r\n",
    "        print(\r\n",
    "            f'content: {p.read_text()}',\r\n",
    "            f'bytes: {p.read_bytes()}',\r\n",
    "            sep='\\n'\r\n",
    "        )\r\n",
    "    else:\r\n",
    "        print(f'{p.name} not exist')\r\n",
    "\r\n",
    "elif option == 2:\r\n",
    "    target = Path('packages/__init__.py')\r\n",
    "\r\n",
    "    if p.exists() and target.exists():\r\n",
    "        target.write_text(p.read_text())\r\n",
    "        print('Done')\r\n",
    "    else:\r\n",
    "        print(f'{p.name} not exist')\r\n",
    "\r\n",
    "else:\r\n",
    "    print('Try again')"
   ]
  },
  {
   "cell_type": "markdown",
   "metadata": {},
   "source": [
    "- Woring with dirs"
   ]
  },
  {
   "cell_type": "code",
   "execution_count": null,
   "metadata": {},
   "outputs": [],
   "source": [
    "from pathlib import Path\r\n",
    "\r\n",
    "print(\r\n",
    "    '1. Print absolute path',\r\n",
    "    '2. List all items',\r\n",
    "    '3. Make a dir',\r\n",
    "    '4. Remove the dir',\r\n",
    "    '5. Rename the dir',\r\n",
    "    sep='\\n'\r\n",
    ")\r\n",
    "\r\n",
    "print()\r\n",
    "\r\n",
    "option = int(input('Enter your option: '))\r\n",
    "p = Path('test_dir')\r\n",
    "\r\n",
    "if option == 1:\r\n",
    "    print(p.absolute())\r\n",
    "\r\n",
    "elif option == 2:\r\n",
    "    if p.exists() and p.is_dir() and not p.is_file():\r\n",
    "        print(\r\n",
    "            f'All: {[i for i in p.iterdir()]}',\r\n",
    "            f'Files: {[i for i in p.rglob(\"*.*\")]}',\r\n",
    "            f'SubDirs: {[i for i in p.iterdir() if i.is_dir()]}',\r\n",
    "            sep='\\n\\n'\r\n",
    "        )\r\n",
    "    else:\r\n",
    "        print(f'{p.name} not exist')\r\n",
    "\r\n",
    "elif option == 3:\r\n",
    "    if p.exists() and p.is_dir() and not p.is_file():\r\n",
    "        print(f'{p.name} already existed')\r\n",
    "    else:\r\n",
    "        p.mkdir()\r\n",
    "        print('Done')\r\n",
    "\r\n",
    "elif option == 4:\r\n",
    "    if p.exists() and p.is_dir() and not p.is_file():\r\n",
    "        p.rmdir()\r\n",
    "        print('Done')\r\n",
    "    else:\r\n",
    "        print(f'{p.name} not exist')\r\n",
    "\r\n",
    "elif option == 5:\r\n",
    "    if p.exists() and p.is_dir() and not p.is_file():\r\n",
    "        p.rename(input('Enter new dir name: '))\r\n",
    "        print('Done')\r\n",
    "    else:\r\n",
    "        print(f'{p.name} not exist')\r\n",
    "\r\n",
    "else:\r\n",
    "    print('Try again')"
   ]
  },
  {
   "cell_type": "markdown",
   "metadata": {},
   "source": [
    "## pdb"
   ]
  },
  {
   "cell_type": "markdown",
   "metadata": {},
   "source": [
    "- Debugging python code\r\n",
    "\r\n",
    "- `q` or `quit` to escape from `pdb`"
   ]
  },
  {
   "cell_type": "code",
   "execution_count": null,
   "metadata": {},
   "outputs": [],
   "source": [
    "import pdb\r\n",
    "\r\n",
    "x = [1, 2, 3]\r\n",
    "y = 'abc'\r\n",
    "\r\n",
    "pdb.set_trace()"
   ]
  },
  {
   "cell_type": "markdown",
   "metadata": {},
   "source": [
    "## pprint"
   ]
  },
  {
   "cell_type": "markdown",
   "metadata": {},
   "source": [
    "Printing in the formatted way"
   ]
  },
  {
   "cell_type": "code",
   "execution_count": null,
   "metadata": {},
   "outputs": [],
   "source": [
    "from pprint import pprint\r\n",
    "\r\n",
    "pprint([1, 2, 3, 'a', 'b', 'c'], width='1')"
   ]
  },
  {
   "cell_type": "markdown",
   "metadata": {},
   "source": [
    "## shutil"
   ]
  },
  {
   "cell_type": "markdown",
   "metadata": {},
   "source": [
    "Copying files"
   ]
  },
  {
   "cell_type": "code",
   "execution_count": null,
   "metadata": {},
   "outputs": [],
   "source": [
    "from pathlib import Path\r\n",
    "from shutil import copy\r\n",
    "\r\n",
    "source = Path('packages/package.py')\r\n",
    "target = Path('packages/__init__.py')\r\n",
    "\r\n",
    "copy(source, target)\r\n",
    "print('Done')"
   ]
  },
  {
   "cell_type": "markdown",
   "metadata": {},
   "source": [
    "## random"
   ]
  },
  {
   "cell_type": "code",
   "execution_count": null,
   "metadata": {},
   "outputs": [],
   "source": [
    "from random import random, randint, choice, choices, shuffle\r\n",
    "import string\r\n",
    "\r\n",
    "lst = [1, 2, 3, 'a', 'b', 'c']\r\n",
    "chars = string.digits + string.ascii_letters\r\n",
    "\r\n",
    "print(\r\n",
    "    f'Random between 0 and 1: {random()}',\r\n",
    "    f'Random in a range: {randint(1, 10)}',\r\n",
    "    f'Random in a list: {choice(lst)}',\r\n",
    "    f'Random in a iterable: {choices(chars, k=3)}',\r\n",
    "    sep='\\n'\r\n",
    ")\r\n",
    "\r\n",
    "shuffle(lst)\r\n",
    "print(f'Shuffle a list: {lst}')"
   ]
  },
  {
   "cell_type": "markdown",
   "metadata": {},
   "source": [
    "## re"
   ]
  },
  {
   "cell_type": "markdown",
   "metadata": {},
   "source": [
    "Working with Regular Expression"
   ]
  },
  {
   "cell_type": "code",
   "execution_count": null,
   "metadata": {},
   "outputs": [],
   "source": [
    "import re\r\n",
    "\r\n",
    "pattern = '^a...s$'\r\n",
    "string1 = 'alias'\r\n",
    "string2 = 'abc'\r\n",
    "\r\n",
    "print(\r\n",
    "    re.findall(pattern=pattern, string=string1),\r\n",
    "    re.findall(pattern=pattern, string=string2),\r\n",
    "    sep='\\n'\r\n",
    ")"
   ]
  },
  {
   "cell_type": "markdown",
   "metadata": {},
   "source": [
    "## sqlite3"
   ]
  },
  {
   "cell_type": "markdown",
   "metadata": {},
   "source": [
    "Working with Sqlite"
   ]
  },
  {
   "cell_type": "markdown",
   "metadata": {},
   "source": [
    "## string"
   ]
  },
  {
   "cell_type": "markdown",
   "metadata": {},
   "source": [
    "Working with str and HTML"
   ]
  },
  {
   "cell_type": "code",
   "execution_count": null,
   "metadata": {},
   "outputs": [],
   "source": [
    "from string import digits, ascii_letters\r\n",
    "\r\n",
    "print(\r\n",
    "    digits,\r\n",
    "    ascii_letters,\r\n",
    "    sep='\\t'\r\n",
    ")"
   ]
  },
  {
   "cell_type": "markdown",
   "metadata": {},
   "source": [
    "## subprocess"
   ]
  },
  {
   "cell_type": "markdown",
   "metadata": {},
   "source": [
    "Running command lines"
   ]
  },
  {
   "cell_type": "markdown",
   "metadata": {},
   "source": [
    "## sys"
   ]
  },
  {
   "cell_type": "markdown",
   "metadata": {},
   "source": [
    "- Comparing size in memory of Generators to Iterable (Lists, Tuples, Sets, Dict, etc)"
   ]
  },
  {
   "cell_type": "code",
   "execution_count": null,
   "metadata": {},
   "outputs": [],
   "source": [
    "from sys import getsizeof\r\n",
    "\r\n",
    "gen1 = (x*2 for x in range(10))\r\n",
    "gen2 = (x*2 for x in range(1000))\r\n",
    "\r\n",
    "lst1 = [x*2 for x in range(10)]\r\n",
    "lst2 = [x*2 for x in range(1000)]\r\n",
    "\r\n",
    "print(\r\n",
    "    'Size of Generators:',\r\n",
    "    getsizeof(gen1),\r\n",
    "    getsizeof(gen2),\r\n",
    "    sep='\\t'\r\n",
    ")\r\n",
    "\r\n",
    "print(\r\n",
    "    'Size of Iterable:',\r\n",
    "    getsizeof(lst1),\r\n",
    "    getsizeof(lst2),\r\n",
    "    sep='\\t'\r\n",
    ")\r\n",
    "\r\n",
    "print('Summary: Generators is better than Iterable in large data situations')"
   ]
  },
  {
   "cell_type": "markdown",
   "metadata": {},
   "source": [
    "- Getting paths"
   ]
  },
  {
   "cell_type": "code",
   "execution_count": null,
   "metadata": {},
   "outputs": [],
   "source": [
    "from pprint import pprint\r\n",
    "from sys import path\r\n",
    "\r\n",
    "pprint(path, width=1)"
   ]
  },
  {
   "cell_type": "markdown",
   "metadata": {},
   "source": [
    "## time"
   ]
  },
  {
   "cell_type": "markdown",
   "metadata": {},
   "source": [
    "- Calculating code execution time"
   ]
  },
  {
   "cell_type": "code",
   "execution_count": null,
   "metadata": {},
   "outputs": [],
   "source": [
    "from time import time\r\n",
    "\r\n",
    "def try1(a):\r\n",
    "    return 10/a\r\n",
    "\r\n",
    "def try2(a):\r\n",
    "    if a == 0:\r\n",
    "        raise Exception('Divide by zero')\r\n",
    "    return 10/a\r\n",
    "\r\n",
    "start1 = time()\r\n",
    "try:\r\n",
    "    try1(0)\r\n",
    "except Exception as e:\r\n",
    "    print(e)\r\n",
    "end1 = time()\r\n",
    "\r\n",
    "start2 = time()\r\n",
    "try:\r\n",
    "    try2(0)\r\n",
    "except Exception as e:\r\n",
    "    print(e)\r\n",
    "end2 = time()\r\n",
    "\r\n",
    "print(\r\n",
    "    'Execution time:',\r\n",
    "    end1 - start1,\r\n",
    "    end2 - start2,\r\n",
    "    sep='\\t'\r\n",
    ")"
   ]
  },
  {
   "cell_type": "markdown",
   "metadata": {},
   "source": [
    "- Converting timestamp to datetime"
   ]
  },
  {
   "cell_type": "code",
   "execution_count": null,
   "metadata": {},
   "outputs": [],
   "source": [
    "from pathlib import Path\r\n",
    "from time import ctime\r\n",
    "\r\n",
    "p = Path('packages/package.py')\r\n",
    "\r\n",
    "print(\r\n",
    "    f'properties: {p.stat()}',\r\n",
    "    f'create time: {ctime(p.stat().st_ctime)}',\r\n",
    "    f'modify time: {ctime(p.stat().st_mtime)}',\r\n",
    "    sep='\\n'\r\n",
    ")"
   ]
  },
  {
   "cell_type": "markdown",
   "metadata": {},
   "source": [
    "## webbrowser"
   ]
  },
  {
   "cell_type": "markdown",
   "metadata": {},
   "source": [
    "Opening Web Browsers"
   ]
  },
  {
   "cell_type": "code",
   "execution_count": null,
   "metadata": {},
   "outputs": [],
   "source": [
    "from webbrowser import open\r\n",
    "\r\n",
    "open('https://google.com')"
   ]
  },
  {
   "cell_type": "markdown",
   "metadata": {},
   "source": [
    "## zipfile"
   ]
  },
  {
   "cell_type": "markdown",
   "metadata": {},
   "source": [
    "Working with zip files"
   ]
  },
  {
   "cell_type": "code",
   "execution_count": null,
   "metadata": {},
   "outputs": [],
   "source": [
    "from zipfile import ZipFile\r\n",
    "from pathlib import Path\r\n",
    "\r\n",
    "print(\r\n",
    "    '1. Compressing files',\r\n",
    "    '2. Getting file info',\r\n",
    "    '3. Extracting files',\r\n",
    "    sep='\\n'\r\n",
    ")\r\n",
    "\r\n",
    "print()\r\n",
    "\r\n",
    "option = int(input('Enter your option: '))\r\n",
    "\r\n",
    "if option == 1:\r\n",
    "    p = [file for file in Path('files').rglob('*.*') if file.suffix != 'zip']\r\n",
    "\r\n",
    "    with ZipFile('files/zipfile.zip', 'w') as zipfile:\r\n",
    "        for file in p:\r\n",
    "            zipfile.write(file)\r\n",
    "        print('Done')\r\n",
    "\r\n",
    "elif option == 2:\r\n",
    "    with ZipFile('files/zipfile.zip', 'r') as zipfile:\r\n",
    "        lst = zipfile.namelist()\r\n",
    "        info = zipfile.getinfo(lst[0])\r\n",
    "\r\n",
    "        print(\r\n",
    "            f'file list: {lst}',\r\n",
    "            f'filename: {info.filename}',\r\n",
    "            f'file size: {info.file_size}',\r\n",
    "            f'compress size: {info.compress_size}',\r\n",
    "            sep='\\n'\r\n",
    "        )\r\n",
    "\r\n",
    "elif option == 3:\r\n",
    "    with ZipFile('files/zipfile.zip', 'r') as zipfile:\r\n",
    "        zipfile.extractall('files/extract')\r\n",
    "        print('Done')\r\n",
    "\r\n",
    "else:\r\n",
    "    print('Try again')"
   ]
  },
  {
   "cell_type": "markdown",
   "metadata": {},
   "source": [
    "# 16. Pipy packages (package indexes)"
   ]
  },
  {
   "cell_type": "markdown",
   "metadata": {},
   "source": [
    "## 16.1. Pip and Venv\r\n",
    "\r\n",
    "### 16.1.1. Refs\r\n",
    "\r\n",
    "- Pip\r\n",
    "\r\n",
    "  - [Corey Schafer](https://www.youtube.com/watch?v=U2ZN104hIcc)\r\n",
    "\r\n",
    "- Venv\r\n",
    "\r\n",
    "  - [Corey Schafer](https://www.youtube.com/watch?v=N5vscPTWKOk)\r\n",
    "\r\n",
    "  - [Codelearn](https://codelearn.io/sharing/quick-quide-python-virtual-environment)\r\n",
    "\r\n",
    "### 16.1.2. Showing Pip commands\r\n",
    "\r\n",
    "```sh\r\n",
    "pip\r\n",
    "```\r\n",
    "\r\n",
    "### 16.1.3. Showing Venv commands\r\n",
    "\r\n",
    "```sh\r\n",
    "py -m venv\r\n",
    "```\r\n",
    "\r\n",
    "### 16.1.4. Working with Pip and Venv\r\n",
    "\r\n",
    "- Creating Venv\r\n",
    "\r\n",
    "  **Notes**: `.venv` is the venv_name\r\n",
    "\r\n",
    "  ```sh\r\n",
    "  py -m venv .venv\r\n",
    "  ```\r\n",
    "\r\n",
    "- Activating Venv\r\n",
    "\r\n",
    "  **Notes**: Must config PowerShell before this command\r\n",
    "\r\n",
    "  Pip will work locally after this command\r\n",
    "\r\n",
    "  ```sh\r\n",
    "  .\\.venv\\Scripts\\activate\r\n",
    "  ```\r\n",
    "\r\n",
    "- Interacting with Pip\r\n",
    "\r\n",
    "  - Listing installed packages\r\n",
    "\r\n",
    "    ```sh\r\n",
    "    pip list\r\n",
    "    ```\r\n",
    "\r\n",
    "    ```sh\r\n",
    "    pip freeze\r\n",
    "    ```\r\n",
    "\r\n",
    "  - Installing packages\r\n",
    "\r\n",
    "    ```sh\r\n",
    "    pip install django\r\n",
    "    ```\r\n",
    "\r\n",
    "    ```sh\r\n",
    "    pip install django==3.*\r\n",
    "    ```\r\n",
    "\r\n",
    "    ```sh\r\n",
    "    pip install django==3.2.0\r\n",
    "    ```\r\n",
    "\r\n",
    "  - Uninstalling packages\r\n",
    "\r\n",
    "    ```sh\r\n",
    "    pip uninstall django\r\n",
    "    ```\r\n",
    "\r\n",
    "  - Exporting packages to `requirements.txt`\r\n",
    "\r\n",
    "    ```sh\r\n",
    "    pip freeze > requirements.txt\r\n",
    "    ```\r\n",
    "\r\n",
    "  - Importing packages from `requirements.txt`\r\n",
    "\r\n",
    "    ```sh\r\n",
    "    pip install -r requirements.txt\r\n",
    "    ```\r\n",
    "\r\n",
    "- Deactivating Venv\r\n",
    "\r\n",
    "  Pip will work globally after this command\r\n",
    "\r\n",
    "  ```sh\r\n",
    "  deactivate\r\n",
    "  ```\r\n",
    "\r\n",
    "## 16.2. Pipenv\r\n",
    "\r\n",
    "### 16.2.1. Showing Pipenv commands\r\n",
    "\r\n",
    "```sh\r\n",
    "pipenv\r\n",
    "```\r\n",
    "\r\n",
    "### 16.2.2. Working with Pipenv\r\n",
    "\r\n",
    "- **Notes**: Pipenv will automatically set up Venv, install packages to Venv locally and export packages to `Pipfile` and `Pipfile.lock` as well\r\n",
    "\r\n",
    "- Setting up Pipenv globally\r\n",
    "\r\n",
    "  **Notes**: Just only run this command one time\r\n",
    "\r\n",
    "  ```sh\r\n",
    "  pip install pipenv\r\n",
    "  ```\r\n",
    "\r\n",
    "- Interacting with Pipenv\r\n",
    "\r\n",
    "  - Listing installed packages\r\n",
    "\r\n",
    "    ```sh\r\n",
    "    pipenv graph\r\n",
    "    ```\r\n",
    "\r\n",
    "  - Installing packages\r\n",
    "\r\n",
    "    ```sh\r\n",
    "    pipenv install django\r\n",
    "    ```\r\n",
    "\r\n",
    "    ```sh\r\n",
    "    pipenv install django=3.*\r\n",
    "    ```\r\n",
    "\r\n",
    "    ```sh\r\n",
    "    pipenv install django=3.2.0\r\n",
    "    ```\r\n",
    "\r\n",
    "  - Updating packages\r\n",
    "\r\n",
    "    ```sh\r\n",
    "    pipenv update --outdated\r\n",
    "    ```\r\n",
    "\r\n",
    "    ```sh\r\n",
    "    pipenv update django\r\n",
    "    ```\r\n",
    "\r\n",
    "  - Uninstalling packages\r\n",
    "\r\n",
    "    ```sh\r\n",
    "    pipenv uninstall django\r\n",
    "    ```\r\n",
    "\r\n",
    "  - Importing packages from `Pipfile`\r\n",
    "\r\n",
    "    ```sh\r\n",
    "    pipenv install --dev\r\n",
    "    ```\r\n",
    "\r\n",
    "    ```sh\r\n",
    "    pipenv install\r\n",
    "    ```\r\n",
    "\r\n",
    "  - Importing packages from `Pipfile.lock`\r\n",
    "\r\n",
    "    ```sh\r\n",
    "    pipenv install --ignore-pipfile\r\n",
    "    ```\r\n",
    "\r\n",
    "- Activating Pipenv Venv\r\n",
    "\r\n",
    "  ```sh\r\n",
    "  pipenv shell\r\n",
    "  ```\r\n",
    "\r\n",
    "- Switching to Pipenv Python Interpreter\r\n",
    "\r\n",
    "  - Getting path to Pipenv Python Interpreter\r\n",
    "\r\n",
    "    ```sh\r\n",
    "    pipenv --venv\r\n",
    "    ```\r\n",
    "\r\n",
    "  - Selecting Pipenv Python Interpreter in VSCode\r\n",
    "\r\n",
    "    ```sh\r\n",
    "    Ctrl + Shift + P\r\n",
    "    ```\r\n",
    "\r\n",
    "    ```sh\r\n",
    "    Python: Select Interpreter\r\n",
    "    ```\r\n",
    "\r\n",
    "    ![select_pipenv_python](images/select_pipenv_python.png)\r\n",
    "\r\n",
    "- Deactivating Pipenv Venv\r\n",
    "\r\n",
    "  ```sh\r\n",
    "  deactivate\r\n",
    "  ```\r\n",
    "\r\n",
    "  ```sh\r\n",
    "  exit\r\n",
    "  ```\r\n",
    "\r\n",
    "- Removing Pipenv Venv\r\n",
    "\r\n",
    "  ```sh\r\n",
    "  pipenv --rm\r\n",
    "  ```"
   ]
  },
  {
   "cell_type": "markdown",
   "metadata": {},
   "source": [
    "## 16.2. Common Pipy packages"
   ]
  },
  {
   "cell_type": "markdown",
   "metadata": {},
   "source": [
    "### autopep8"
   ]
  },
  {
   "cell_type": "markdown",
   "metadata": {},
   "source": [
    "Formatting codes by code convention of PEP8"
   ]
  },
  {
   "cell_type": "markdown",
   "metadata": {},
   "source": [
    "### beautifulsoup4"
   ]
  },
  {
   "cell_type": "markdown",
   "metadata": {},
   "source": [
    "Crawing web data from Browsers"
   ]
  },
  {
   "cell_type": "markdown",
   "metadata": {},
   "source": [
    "### colorama"
   ]
  },
  {
   "cell_type": "markdown",
   "metadata": {},
   "source": [
    "Colorizing terminal outputs"
   ]
  },
  {
   "cell_type": "markdown",
   "metadata": {},
   "source": [
    "### django"
   ]
  },
  {
   "cell_type": "markdown",
   "metadata": {},
   "source": [
    "Creating websites or APIs with Django Framework"
   ]
  },
  {
   "cell_type": "markdown",
   "metadata": {},
   "source": [
    "### django-debug-toolbar"
   ]
  },
  {
   "cell_type": "markdown",
   "metadata": {},
   "source": [
    "Debug code while working with Django Framework"
   ]
  },
  {
   "cell_type": "markdown",
   "metadata": {},
   "source": [
    "### googletrans and google_trans_new"
   ]
  },
  {
   "cell_type": "markdown",
   "metadata": {},
   "source": [
    "Translating languages by Google Translater"
   ]
  },
  {
   "cell_type": "markdown",
   "metadata": {},
   "source": [
    "### imaplib"
   ]
  },
  {
   "cell_type": "markdown",
   "metadata": {},
   "source": [
    "Receiving emails"
   ]
  },
  {
   "cell_type": "markdown",
   "metadata": {},
   "source": [
    "### ipython"
   ]
  },
  {
   "cell_type": "markdown",
   "metadata": {},
   "source": [
    "Working with Python Interpreter"
   ]
  },
  {
   "cell_type": "markdown",
   "metadata": {},
   "source": [
    "### numpy"
   ]
  },
  {
   "cell_type": "markdown",
   "metadata": {},
   "source": [
    "Used in machine learning or Data Science areas"
   ]
  },
  {
   "cell_type": "markdown",
   "metadata": {},
   "source": [
    "### openpyxl"
   ]
  },
  {
   "cell_type": "markdown",
   "metadata": {},
   "source": [
    "Working with excel files"
   ]
  },
  {
   "cell_type": "markdown",
   "metadata": {},
   "source": [
    "### pillow"
   ]
  },
  {
   "cell_type": "markdown",
   "metadata": {},
   "source": [
    "- Showing images"
   ]
  },
  {
   "cell_type": "code",
   "execution_count": null,
   "metadata": {},
   "outputs": [],
   "source": [
    "from PIL import Image\r\n",
    "\r\n",
    "Image.open('<path>').show()"
   ]
  },
  {
   "cell_type": "markdown",
   "metadata": {},
   "source": [
    "- Flipping images"
   ]
  },
  {
   "cell_type": "code",
   "execution_count": null,
   "metadata": {},
   "outputs": [],
   "source": [
    "from PIL import Image\r\n",
    "\r\n",
    "path = '<path>'\r\n",
    "Image.open(path).transpose(Image.FLIP_LEFT_RIGHT).save(path)"
   ]
  },
  {
   "cell_type": "markdown",
   "metadata": {},
   "source": [
    "- Sharpenning images"
   ]
  },
  {
   "cell_type": "code",
   "execution_count": null,
   "metadata": {},
   "outputs": [],
   "source": [
    "from PIL import Image, ImageFilter\r\n",
    "\r\n",
    "path = '<path>'\r\n",
    "s = Image.open(path).filter(ImageFilter.SHARPEN)\r\n",
    "for i in range(10):\r\n",
    "    s = s.filter(ImageFilter.SHARPEN)\r\n",
    "s.save(path)"
   ]
  },
  {
   "cell_type": "markdown",
   "metadata": {},
   "source": [
    "### pipenv"
   ]
  },
  {
   "cell_type": "markdown",
   "metadata": {},
   "source": [
    "Working with Python Virtual Enviroment and Pip in the convenient way"
   ]
  },
  {
   "cell_type": "markdown",
   "metadata": {},
   "source": [
    "### pydictionary"
   ]
  },
  {
   "cell_type": "markdown",
   "metadata": {},
   "source": [
    "Creating a dictionary"
   ]
  },
  {
   "cell_type": "markdown",
   "metadata": {},
   "source": [
    "### pylint"
   ]
  },
  {
   "cell_type": "markdown",
   "metadata": {},
   "source": [
    "Checking code errors"
   ]
  },
  {
   "cell_type": "markdown",
   "metadata": {},
   "source": [
    "### pypdf2"
   ]
  },
  {
   "cell_type": "markdown",
   "metadata": {},
   "source": [
    "Working with pdf files"
   ]
  },
  {
   "cell_type": "markdown",
   "metadata": {},
   "source": [
    "### requests"
   ]
  },
  {
   "cell_type": "markdown",
   "metadata": {},
   "source": [
    "Working with API"
   ]
  },
  {
   "cell_type": "markdown",
   "metadata": {},
   "source": [
    "### selenium"
   ]
  },
  {
   "cell_type": "markdown",
   "metadata": {},
   "source": [
    "Testing web, software, etc automatically"
   ]
  },
  {
   "cell_type": "markdown",
   "metadata": {},
   "source": [
    "### twilio"
   ]
  },
  {
   "cell_type": "markdown",
   "metadata": {},
   "source": [
    "Sending email and calling phone in the convenient way"
   ]
  },
  {
   "cell_type": "markdown",
   "metadata": {},
   "source": [
    "# 17. Docstring and Pydoc"
   ]
  },
  {
   "cell_type": "markdown",
   "metadata": {},
   "source": [
    "## 17.1. Docstring"
   ]
  },
  {
   "cell_type": "markdown",
   "metadata": {},
   "source": [
    "Used to write description about variables, defs, classes and packages"
   ]
  },
  {
   "cell_type": "markdown",
   "metadata": {},
   "source": [
    "### 17.1.1. Writting your Docstring\r\n",
    "\r\n",
    "Using multiple string before variables, defs, classes and packages to describe their features\r\n",
    "\r\n",
    "![writting your docstring](images/writting_your_docstring.png)"
   ]
  },
  {
   "cell_type": "markdown",
   "metadata": {},
   "source": [
    "### 17.1.2. Opening your Docstring\r\n",
    "\r\n",
    "Using variables, defs, classes and packages normally\r\n",
    "\r\n",
    "![opening your docstring](images/opening_your_docstring.png)"
   ]
  },
  {
   "cell_type": "markdown",
   "metadata": {},
   "source": [
    "## 17.2. Pydoc"
   ]
  },
  {
   "cell_type": "markdown",
   "metadata": {},
   "source": [
    "Used to read documents about standard built-in packages in Python"
   ]
  },
  {
   "cell_type": "markdown",
   "metadata": {},
   "source": [
    "### 17.2.1. Showing Pydoc commands\r\n",
    "\r\n",
    "```sh\r\n",
    "py -m pydoc\r\n",
    "```"
   ]
  },
  {
   "cell_type": "markdown",
   "metadata": {},
   "source": [
    "### 17.2.2. Opening Pydoc in Terminals\r\n",
    "\r\n",
    "**Notes**: `math` is a standard buit-in package name\r\n",
    "\r\n",
    "```sh\r\n",
    "py -m pydoc math\r\n",
    "```\r\n",
    "\r\n",
    "```sh\r\n",
    "space to continue\r\n",
    "```\r\n",
    "\r\n",
    "```sh\r\n",
    "q to close\r\n",
    "```"
   ]
  },
  {
   "cell_type": "markdown",
   "metadata": {},
   "source": [
    "### 17.2.3. Opening Pydoc in Browsers\r\n",
    "\r\n",
    "**Note**: `3000` is a port number\r\n",
    "\r\n",
    "```sh\r\n",
    "py -m pydoc -p 3000\r\n",
    "```"
   ]
  },
  {
   "cell_type": "markdown",
   "metadata": {},
   "source": [
    "### 17.2.4. Writting Pydoc about your modules to HTML\r\n",
    "\r\n",
    "- Step 1: Writting your Pydoc:\r\n",
    "\r\n",
    "  **Notes**:\r\n",
    "\r\n",
    "  - A HTML file is written and saved in the same folder with your modules\r\n",
    "\r\n",
    "  - `test` is the module name\r\n",
    "\r\n",
    "  ```sh\r\n",
    "  py -m pydoc -w test\r\n",
    "  ```\r\n",
    "\r\n",
    "  ![writting you pydoc](images/writting_your_pydoc.png)\r\n",
    "\r\n",
    "- Step 2: Opening your Pydoc:\r\n",
    "\r\n",
    "  ![opening you pydoc](images/opening_your_pydoc.png)"
   ]
  }
 ],
 "metadata": {
  "interpreter": {
   "hash": "dcacb0086e9a4f4eabd41c33bf4faac5ea0a3337ed3f5eff0680afa930572c04"
  },
  "kernelspec": {
   "display_name": "Python 3.9.4 64-bit",
   "name": "python3"
  },
  "language_info": {
   "name": "python",
   "version": ""
  },
  "orig_nbformat": 4
 },
 "nbformat": 4,
 "nbformat_minor": 2
}